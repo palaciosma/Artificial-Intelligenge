{
 "cells": [
  {
   "cell_type": "markdown",
   "metadata": {},
   "source": [
    "## 1. Introduction\n",
    "\n",
    "Suppose you want to build a regression and parametric classification model on a set of cases, where each case is described in terms of several variables. Without knowing anything else about the data set, give a reasoned justification:\n",
    "\n",
    "a) Explain in your own words what is the main difference between supervised and unsupervised learning methods.  Give an example of the application of each type of method. Describe briefly the input and output variables you would consider in each example."
   ]
  },
  {
   "cell_type": "markdown",
   "metadata": {},
   "source": [
    "***In a supervised learning method model, we previously know the classification of each element in the training prior to the analysis, while in the non-supervised we dont have that previous information, thus in the training and the test, the input is the parameters matrix, and the output is the classification. An example of supervised would be, for example, a classification of a database of patients in terms of age, sex, occupation (in conclusion, data that are variables of the database). On the other hand, a non-supervised would be for example, evaluate wether there will be or not any post-surgycal complication based on different parameters like age, blood thickness, other diseases...***"
   ]
  },
  {
   "cell_type": "markdown",
   "metadata": {},
   "source": [
    "b) Explain in your own words the main difference between a linear and a non-linear model\n"
   ]
  },
  {
   "cell_type": "markdown",
   "metadata": {},
   "source": [
    "***A linear model has a function which parameters are of degree 1, which is of the type f(x)=a+bx.\n",
    "A non linear model, on the other hand, has paramters of degree 2 or higher, making it quadratic, cubic, exponential, logarithmic...***"
   ]
  },
  {
   "cell_type": "markdown",
   "metadata": {},
   "source": [
    "c)  Explain in your own words what is the main difference between soft and hard output of a learning model. Indicate which of the methods presented in theory provide a soft output and which provide a hard output.\n"
   ]
  },
  {
   "cell_type": "markdown",
   "metadata": {},
   "source": [
    "***Soft prediction will return a (predicted) probability of the data point belonging in one of the classes, while hard predictioons returns the class the model predicts, given the point. In general, unsupervised machine learning methods do not have a whole characterization of the problem, thus the optimal output given will be soft. But in some other prblems like classification problems or logistic regression, where the output will be 0 or 1, we could say that the output given is a hard output.***\n"
   ]
  },
  {
   "cell_type": "markdown",
   "metadata": {},
   "source": [
    "d)  Explain the concept of overfitting and generalization. If you wish, you can support your answer with an outline or drawing. Explain in your own words how you could get the designed model to generalize well.\n"
   ]
  },
  {
   "cell_type": "markdown",
   "metadata": {},
   "source": [
    "***Overfitting refers to a model that trains the data \"too well\". That is, that the model is learning by heart by over-training the data set, adjusting to it. This makes the algorithm non-replicable to other data sets.\n",
    "Generalization is when the \"adquired knowledge\" in the training of the algorith is valid for various cases, with different data sets. This means that the basic characterization of the research problem has been achieved.***\n"
   ]
  },
  {
   "cell_type": "markdown",
   "metadata": {},
   "source": [
    "For the development of this second practice, the database \"Pima Indian Diabetes\" already pre-processed will be analyzed, where the rows of the file correspond to the cases and the columns to the variables.\n",
    "\n",
    "For this practice, the data will be divided into two subsets: training and test. In addition, the validation scheme called k-fold cross validation will be considered."
   ]
  },
  {
   "cell_type": "markdown",
   "metadata": {},
   "source": [
    "## 2. Cross-validatioin\n",
    "\n",
    "For this practice, the validation scheme called k-fold cross validation will be considered. Remember that in this approach, the available cases are randomly divided into k subsets of the same size called \"folds\".\n",
    "\n",
    "a) Indicate what a k-fold cross-validation scheme can be used for.\n",
    "\n",
    "\n"
   ]
  },
  {
   "cell_type": "markdown",
   "metadata": {},
   "source": [
    "***Cross-validation is a resampling procedure used to evaluate machine learning models on a limited data sample.This is used in applied machine learning to estimate the skill of a machine learning model on unseen data. That is, to use a limited sample in order to estimate how the model is expected to perform in general when used to make predictions on data not used during the training of the model.***"
   ]
  },
  {
   "cell_type": "markdown",
   "metadata": {},
   "source": [
    "b) Justify reasonably which models will need to follow a cross-validation scheme.\n"
   ]
  },
  {
   "cell_type": "markdown",
   "metadata": {},
   "source": [
    "***Overall unsupervised models with small datasets will need this k-fold method in order to \"amplify\" this dataset. This will help us to have a better characterization of the research problem by increasing training variation, i other words is like give the algorythm the sensation of training with a much larger dataset***\n"
   ]
  },
  {
   "cell_type": "markdown",
   "metadata": {},
   "source": [
    "c) As discussed in the theoretical classes, it is common in health to have a different number of cases in each class (unbalanced classes). Taking into account the database of this practice, please explain in detail what two performance measures you would consider in order to analyze the results with different parametric schemes.\n"
   ]
  },
  {
   "cell_type": "markdown",
   "metadata": {},
   "source": [
    "***In this database there is an imbalance, since we got 500 non-diabetics vs 268 diabetics, in order to fix this there are certain methods as data augmentation that consists on adding data to the database in a way that the computer detect it as valid data, other solution will be to make the algorithm (usually on deep learning methods) to give more attention to errors commited on missdetection of diabetics (since are the under-represented group)***"
   ]
  },
  {
   "cell_type": "code",
   "execution_count": 30,
   "metadata": {},
   "outputs": [],
   "source": [
    "import pandas as pd\n",
    "import numpy as np\n",
    "import seaborn as sns\n",
    "import matplotlib\n",
    "from matplotlib import pyplot as plt"
   ]
  },
  {
   "cell_type": "code",
   "execution_count": 31,
   "metadata": {},
   "outputs": [
    {
     "data": {
      "text/html": [
       "<div>\n",
       "<style scoped>\n",
       "    .dataframe tbody tr th:only-of-type {\n",
       "        vertical-align: middle;\n",
       "    }\n",
       "\n",
       "    .dataframe tbody tr th {\n",
       "        vertical-align: top;\n",
       "    }\n",
       "\n",
       "    .dataframe thead th {\n",
       "        text-align: right;\n",
       "    }\n",
       "</style>\n",
       "<table border=\"1\" class=\"dataframe\">\n",
       "  <thead>\n",
       "    <tr style=\"text-align: right;\">\n",
       "      <th></th>\n",
       "      <th>Pregnancies</th>\n",
       "      <th>Glucose</th>\n",
       "      <th>BloodPressure</th>\n",
       "      <th>SkinThickness</th>\n",
       "      <th>Insulin</th>\n",
       "      <th>BMI</th>\n",
       "      <th>DiabetesPedigreeFunction</th>\n",
       "      <th>Age</th>\n",
       "      <th>Outcome</th>\n",
       "    </tr>\n",
       "  </thead>\n",
       "  <tbody>\n",
       "    <tr>\n",
       "      <th>0</th>\n",
       "      <td>6</td>\n",
       "      <td>148</td>\n",
       "      <td>72</td>\n",
       "      <td>35</td>\n",
       "      <td>0</td>\n",
       "      <td>33.6</td>\n",
       "      <td>0.627</td>\n",
       "      <td>50</td>\n",
       "      <td>1</td>\n",
       "    </tr>\n",
       "    <tr>\n",
       "      <th>1</th>\n",
       "      <td>1</td>\n",
       "      <td>85</td>\n",
       "      <td>66</td>\n",
       "      <td>29</td>\n",
       "      <td>0</td>\n",
       "      <td>26.6</td>\n",
       "      <td>0.351</td>\n",
       "      <td>31</td>\n",
       "      <td>0</td>\n",
       "    </tr>\n",
       "    <tr>\n",
       "      <th>2</th>\n",
       "      <td>8</td>\n",
       "      <td>183</td>\n",
       "      <td>64</td>\n",
       "      <td>0</td>\n",
       "      <td>0</td>\n",
       "      <td>23.3</td>\n",
       "      <td>0.672</td>\n",
       "      <td>32</td>\n",
       "      <td>1</td>\n",
       "    </tr>\n",
       "    <tr>\n",
       "      <th>3</th>\n",
       "      <td>1</td>\n",
       "      <td>89</td>\n",
       "      <td>66</td>\n",
       "      <td>23</td>\n",
       "      <td>94</td>\n",
       "      <td>28.1</td>\n",
       "      <td>0.167</td>\n",
       "      <td>21</td>\n",
       "      <td>0</td>\n",
       "    </tr>\n",
       "    <tr>\n",
       "      <th>4</th>\n",
       "      <td>0</td>\n",
       "      <td>137</td>\n",
       "      <td>40</td>\n",
       "      <td>35</td>\n",
       "      <td>168</td>\n",
       "      <td>43.1</td>\n",
       "      <td>2.288</td>\n",
       "      <td>33</td>\n",
       "      <td>1</td>\n",
       "    </tr>\n",
       "  </tbody>\n",
       "</table>\n",
       "</div>"
      ],
      "text/plain": [
       "   Pregnancies  Glucose  BloodPressure  SkinThickness  Insulin   BMI  \\\n",
       "0            6      148             72             35        0  33.6   \n",
       "1            1       85             66             29        0  26.6   \n",
       "2            8      183             64              0        0  23.3   \n",
       "3            1       89             66             23       94  28.1   \n",
       "4            0      137             40             35      168  43.1   \n",
       "\n",
       "   DiabetesPedigreeFunction  Age  Outcome  \n",
       "0                     0.627   50        1  \n",
       "1                     0.351   31        0  \n",
       "2                     0.672   32        1  \n",
       "3                     0.167   21        0  \n",
       "4                     2.288   33        1  "
      ]
     },
     "execution_count": 31,
     "metadata": {},
     "output_type": "execute_result"
    }
   ],
   "source": [
    "#Load data\n",
    "data = pd.read_csv(\"pima_indian_diabetes.csv\") #We can change this database\n",
    "data.head()"
   ]
  },
  {
   "cell_type": "code",
   "execution_count": 32,
   "metadata": {},
   "outputs": [
    {
     "name": "stdout",
     "output_type": "stream",
     "text": [
      "There are  500 Non-Diabetics on the dataset\n",
      "There are  268 Diabetics on the dataset\n"
     ]
    }
   ],
   "source": [
    "print(\"There are \",data[data.Outcome == 0].shape[0],\"Non-Diabetics on the dataset\")\n",
    "print(\"There are \",data[data.Outcome == 1].shape[0],\"Diabetics on the dataset\")"
   ]
  },
  {
   "cell_type": "markdown",
   "metadata": {},
   "source": [
    "## 3. Simple Linear Regression\n",
    "\n",
    "Linear regression allows us to establish the relationship between a dependent variable and one or more explanatory variables. This technique is used when the relationship between the variables is linear. \n",
    "\n",
    "Indicate:\n",
    "\n",
    "a) What is the dependent variable that you could consider to address a linear regression problem?"
   ]
  },
  {
   "cell_type": "markdown",
   "metadata": {},
   "source": [
    "***The dependent variable, denoted Y, is going to rely on the independent variable X for the lineal regression analysis to study the relationship between the two variables. In this case, we will plot the correlation matrix to pick two variables, and determine the lineal regression between them.***"
   ]
  },
  {
   "cell_type": "markdown",
   "metadata": {},
   "source": [
    "b) Which variable is the one that allows better estimation of the dependent variable? You can be helped by the value of the correlation coefficient, as well as by some performance measures that you consider appropriate to evaluate the performance of the regressor.\n"
   ]
  },
  {
   "cell_type": "code",
   "execution_count": 33,
   "metadata": {},
   "outputs": [
    {
     "data": {
      "text/plain": [
       "<matplotlib.axes._subplots.AxesSubplot at 0x22cbf186160>"
      ]
     },
     "execution_count": 33,
     "metadata": {},
     "output_type": "execute_result"
    },
    {
     "data": {
      "image/png": "[encoded data removed]",
      "text/plain": [
       "<Figure size 720x576 with 2 Axes>"
      ]
     },
     "metadata": {
      "needs_background": "light"
     },
     "output_type": "display_data"
    }
   ],
   "source": [
    "f, ax = plt.subplots(figsize=(10, 8))\n",
    "corr = data.corr()\n",
    "sns.heatmap(corr,annot=True,\n",
    "            xticklabels=corr.columns.values,\n",
    "            yticklabels=corr.columns.values)"
   ]
  },
  {
   "cell_type": "markdown",
   "metadata": {},
   "source": [
    "***If we treated the \"Insulin\" as the dependent variable Y, we can see that the variable that better predicts the result, since it appears to have some correlation, would be \"Glucose\".***"
   ]
  },
  {
   "cell_type": "markdown",
   "metadata": {},
   "source": [
    "c) Indicate whether the performance obtained in the test set change after normalizing the variables.\n"
   ]
  },
  {
   "cell_type": "markdown",
   "metadata": {},
   "source": [
    "***Firstly, we are going to perform lineal regression without normalizing the two chosen variables, removing the missing values***"
   ]
  },
  {
   "cell_type": "code",
   "execution_count": 69,
   "metadata": {},
   "outputs": [],
   "source": [
    "data = data[data.BMI !=0]\n",
    "data = data[data.BloodPressure !=0]\n",
    "data = data[data.DiabetesPedigreeFunction !=0]\n",
    "data = data[data.Glucose !=0]\n",
    "data = data[data.Insulin !=0]\n",
    "data = data[data.SkinThickness !=0]"
   ]
  },
  {
   "cell_type": "code",
   "execution_count": 70,
   "metadata": {},
   "outputs": [
    {
     "data": {
      "text/plain": [
       "((392, 1), (392, 1))"
      ]
     },
     "execution_count": 70,
     "metadata": {},
     "output_type": "execute_result"
    }
   ],
   "source": [
    "#Create input and output data\n",
    "x = data[[\"Glucose\"]]\n",
    "y = data[[\"Insulin\"]]\n",
    "\n",
    "x.shape, y.shape"
   ]
  },
  {
   "cell_type": "code",
   "execution_count": 71,
   "metadata": {},
   "outputs": [],
   "source": [
    "# Split the data set in two different subsets: training and test\n",
    "from sklearn.model_selection import train_test_split\n",
    "from sklearn.utils import shuffle\n",
    "from sklearn.metrics import mean_squared_error\n",
    "\n",
    "x, y = shuffle(x,y, random_state=0)\n",
    "X_train, X_test, Y_train, Y_test = train_test_split(x, y)"
   ]
  },
  {
   "cell_type": "code",
   "execution_count": 72,
   "metadata": {},
   "outputs": [
    {
     "name": "stdout",
     "output_type": "stream",
     "text": [
      "R2: 0.37633920710597113\n",
      "MSE: 106.71274748954104\n",
      "MAE: 65.84399632240422\n"
     ]
    }
   ],
   "source": [
    "from sklearn.linear_model import LinearRegression\n",
    "from sklearn.metrics import mean_absolute_error\n",
    "from sklearn.metrics import mean_squared_error\n",
    "\n",
    "model = LinearRegression()\n",
    "model.fit(X_train,Y_train)\n",
    "model.predict(X_test)\n",
    "\n",
    "print(\"R2:\", model.score(X_test,Y_test))\n",
    "print(\"MSE:\", mean_squared_error(Y_test, model.predict(X_test), squared=False))\n",
    "print(\"MAE:\", mean_absolute_error(Y_test, model.predict(X_test)))"
   ]
  },
  {
   "cell_type": "markdown",
   "metadata": {},
   "source": [
    "***Now we normalize the variables and repeat the process to see wether we obtain a higher R squared or not***"
   ]
  },
  {
   "cell_type": "code",
   "execution_count": 73,
   "metadata": {},
   "outputs": [
    {
     "data": {
      "text/plain": [
       "((392, 1), (392, 1))"
      ]
     },
     "execution_count": 73,
     "metadata": {},
     "output_type": "execute_result"
    }
   ],
   "source": [
    "x = data[[\"Glucose\"]]\n",
    "y = data[[\"Insulin\"]]\n",
    "\n",
    "x.shape, y.shape"
   ]
  },
  {
   "cell_type": "code",
   "execution_count": 74,
   "metadata": {},
   "outputs": [],
   "source": [
    "x1 = (x - x.mean())/x.std()\n",
    "y1 = (y - y.mean())/y.std()\n",
    "\n",
    "x, y = shuffle(x1,y1, random_state=0)\n",
    "X_train, X_test, Y_train, Y_test = train_test_split(x, y)"
   ]
  },
  {
   "cell_type": "code",
   "execution_count": 75,
   "metadata": {},
   "outputs": [
    {
     "name": "stdout",
     "output_type": "stream",
     "text": [
      "R2: 0.39631447227101047\n",
      "MSE: 0.7888862892958379\n",
      "MAE: 0.5101636406427672\n"
     ]
    }
   ],
   "source": [
    "model = LinearRegression()\n",
    "model.fit(X_train,Y_train)\n",
    "model.predict(X_test)\n",
    "\n",
    "print(\"R2:\", model.score(X_test,Y_test))\n",
    "print(\"MSE:\", mean_squared_error(Y_test, model.predict(X_test), squared=False))\n",
    "print(\"MAE:\", mean_absolute_error(Y_test, model.predict(X_test)))"
   ]
  },
  {
   "cell_type": "markdown",
   "metadata": {},
   "source": [
    "## 4. Multiple Linear Regresion\n",
    "\n",
    "In this section we will analyze:\n",
    "\n",
    "a) How the value of the estimators, the correlation coefficient and the performance measures change when we change the number of explanatory variables."
   ]
  },
  {
   "cell_type": "markdown",
   "metadata": {},
   "source": [
    "***2 Features***"
   ]
  },
  {
   "cell_type": "code",
   "execution_count": 41,
   "metadata": {},
   "outputs": [
    {
     "data": {
      "text/plain": [
       "((392, 2), (392, 1))"
      ]
     },
     "execution_count": 41,
     "metadata": {},
     "output_type": "execute_result"
    }
   ],
   "source": [
    "#Create input and output data\n",
    "x = data[[\"Glucose\", \"SkinThickness\"]]\n",
    "y = data[[\"Insulin\"]]\n",
    "\n",
    "x.shape, y.shape"
   ]
  },
  {
   "cell_type": "code",
   "execution_count": 42,
   "metadata": {},
   "outputs": [],
   "source": [
    "# Split the data set in two different subsets: training and test\n",
    "from sklearn.model_selection import train_test_split\n",
    "from sklearn.utils import shuffle\n",
    "from sklearn.metrics import mean_squared_error\n",
    "\n",
    "x, y = shuffle(x,y, random_state=0)\n",
    "X_train, X_test, Y_train, Y_test = train_test_split(x, y)"
   ]
  },
  {
   "cell_type": "code",
   "execution_count": 43,
   "metadata": {},
   "outputs": [
    {
     "name": "stdout",
     "output_type": "stream",
     "text": [
      "R2: 0.35204727554715354\n",
      "MSE: 109.52797365170426\n",
      "MAE: 72.4544388818426\n"
     ]
    }
   ],
   "source": [
    "from sklearn.linear_model import LinearRegression\n",
    "from sklearn.metrics import mean_absolute_error\n",
    "from sklearn.metrics import mean_squared_error\n",
    "\n",
    "model = LinearRegression()\n",
    "model.fit(X_train,Y_train)\n",
    "model.predict(X_test)\n",
    "\n",
    "print(\"R2:\", model.score(X_test,Y_test))\n",
    "print(\"MSE:\", mean_squared_error(Y_test, model.predict(X_test), squared=False))\n",
    "print(\"MAE:\", mean_absolute_error(Y_test, model.predict(X_test)))"
   ]
  },
  {
   "cell_type": "markdown",
   "metadata": {},
   "source": [
    "***3 Features***"
   ]
  },
  {
   "cell_type": "code",
   "execution_count": 44,
   "metadata": {},
   "outputs": [
    {
     "data": {
      "text/plain": [
       "((392, 3), (392, 1))"
      ]
     },
     "execution_count": 44,
     "metadata": {},
     "output_type": "execute_result"
    }
   ],
   "source": [
    "#Create input and output data\n",
    "x = data[[\"Glucose\", \"SkinThickness\", \"BMI\"]]\n",
    "y = data[[\"Insulin\"]]\n",
    "\n",
    "x.shape, y.shape"
   ]
  },
  {
   "cell_type": "code",
   "execution_count": 45,
   "metadata": {},
   "outputs": [],
   "source": [
    "# Split the data set in two different subsets: training and test\n",
    "from sklearn.model_selection import train_test_split\n",
    "from sklearn.utils import shuffle\n",
    "from sklearn.metrics import mean_squared_error\n",
    "\n",
    "x, y = shuffle(x,y, random_state=0)\n",
    "X_train, X_test, Y_train, Y_test = train_test_split(x, y)"
   ]
  },
  {
   "cell_type": "code",
   "execution_count": 46,
   "metadata": {},
   "outputs": [
    {
     "name": "stdout",
     "output_type": "stream",
     "text": [
      "R2: 0.21473798947302059\n",
      "MSE: 99.81099393066968\n",
      "MAE: 69.70756649168459\n"
     ]
    }
   ],
   "source": [
    "from sklearn.linear_model import LinearRegression\n",
    "from sklearn.metrics import mean_absolute_error\n",
    "from sklearn.metrics import mean_squared_error\n",
    "\n",
    "model = LinearRegression()\n",
    "model.fit(X_train,Y_train)\n",
    "model.predict(X_test)\n",
    "\n",
    "print(\"R2:\", model.score(X_test,Y_test))\n",
    "print(\"MSE:\", mean_squared_error(Y_test, model.predict(X_test), squared=False))\n",
    "print(\"MAE:\", mean_absolute_error(Y_test, model.predict(X_test)))"
   ]
  },
  {
   "cell_type": "markdown",
   "metadata": {},
   "source": [
    "***All features***"
   ]
  },
  {
   "cell_type": "code",
   "execution_count": 47,
   "metadata": {},
   "outputs": [
    {
     "data": {
      "text/plain": [
       "((392, 7), (392, 1))"
      ]
     },
     "execution_count": 47,
     "metadata": {},
     "output_type": "execute_result"
    }
   ],
   "source": [
    "#Create input and output data\n",
    "x = data[[\"Pregnancies\", \"Glucose\", \"BloodPressure\", \"SkinThickness\", \"BMI\", \"DiabetesPedigreeFunction\", \"Age\"]]\n",
    "y = data[[\"Insulin\"]]\n",
    "\n",
    "x.shape, y.shape"
   ]
  },
  {
   "cell_type": "code",
   "execution_count": 48,
   "metadata": {},
   "outputs": [],
   "source": [
    "# Split the data set in two different subsets: training and test\n",
    "from sklearn.model_selection import train_test_split\n",
    "from sklearn.utils import shuffle\n",
    "from sklearn.metrics import mean_squared_error\n",
    "\n",
    "x, y = shuffle(x,y, random_state=0)\n",
    "X_train, X_test, Y_train, Y_test = train_test_split(x, y)"
   ]
  },
  {
   "cell_type": "code",
   "execution_count": 49,
   "metadata": {},
   "outputs": [
    {
     "name": "stdout",
     "output_type": "stream",
     "text": [
      "R2: 0.2769180477262353\n",
      "MSE: 106.68334937125294\n",
      "MAE: 66.98018096883973\n"
     ]
    }
   ],
   "source": [
    "from sklearn.linear_model import LinearRegression\n",
    "from sklearn.metrics import mean_absolute_error\n",
    "from sklearn.metrics import mean_squared_error\n",
    "\n",
    "model = LinearRegression()\n",
    "model.fit(X_train,Y_train)\n",
    "model.predict(X_test)\n",
    "\n",
    "print(\"R2:\", model.score(X_test,Y_test))\n",
    "print(\"MSE:\", mean_squared_error(Y_test, model.predict(X_test), squared=False))\n",
    "print(\"MAE:\", mean_absolute_error(Y_test, model.predict(X_test)))"
   ]
  },
  {
   "cell_type": "markdown",
   "metadata": {},
   "source": [
    "***Now, normalizing them (Only for the 3 variables)***"
   ]
  },
  {
   "cell_type": "code",
   "execution_count": 50,
   "metadata": {},
   "outputs": [
    {
     "data": {
      "text/plain": [
       "((392, 3), (392, 1))"
      ]
     },
     "execution_count": 50,
     "metadata": {},
     "output_type": "execute_result"
    }
   ],
   "source": [
    "#Create input and output data\n",
    "x = data[[\"Glucose\", \"SkinThickness\", \"BMI\"]]\n",
    "y = data[[\"Insulin\"]]\n",
    "\n",
    "x.shape, y.shape"
   ]
  },
  {
   "cell_type": "code",
   "execution_count": 51,
   "metadata": {},
   "outputs": [],
   "source": [
    "x1 = (x - x.mean())/x.std()\n",
    "y1 = (y - y.mean())/y.std()\n",
    "\n",
    "x, y = shuffle(x1,y1, random_state=0)\n",
    "X_train, X_test, Y_train, Y_test = train_test_split(x, y)"
   ]
  },
  {
   "cell_type": "code",
   "execution_count": 52,
   "metadata": {},
   "outputs": [
    {
     "name": "stdout",
     "output_type": "stream",
     "text": [
      "R2: 0.39043219375808036\n",
      "MSE: 0.7342285265244022\n",
      "MAE: 0.4899045321301268\n"
     ]
    }
   ],
   "source": [
    "model = LinearRegression()\n",
    "model.fit(X_train,Y_train)\n",
    "model.predict(X_test)\n",
    "\n",
    "print(\"R2:\", model.score(X_test,Y_test))\n",
    "print(\"MSE:\", mean_squared_error(Y_test, model.predict(X_test), squared=False))\n",
    "print(\"MAE:\", mean_absolute_error(Y_test, model.predict(X_test)))"
   ]
  },
  {
   "cell_type": "markdown",
   "metadata": {},
   "source": [
    "b) The most relevant feautures. Explain in detail the process you have followed and justify which characteristics are most relevant to you in this database.\n",
    "\n",
    "Note: you may have to repeat this section with a different number of variables in order to draw valid conclusions."
   ]
  },
  {
   "cell_type": "code",
   "execution_count": 53,
   "metadata": {},
   "outputs": [
    {
     "name": "stdout",
     "output_type": "stream",
     "text": [
      "Feature: 0, Score: -2.62765\n",
      "Feature: 1, Score: 2.12007\n",
      "Feature: 2, Score: -0.59238\n",
      "Feature: 3, Score: -0.06935\n",
      "Feature: 4, Score: 2.04903\n",
      "Feature: 5, Score: 11.29126\n",
      "Feature: 6, Score: 0.98583\n"
     ]
    },
    {
     "data": {
      "image/png": "[encoded data removed]",
      "text/plain": [
       "<Figure size 432x288 with 1 Axes>"
      ]
     },
     "metadata": {
      "needs_background": "light"
     },
     "output_type": "display_data"
    }
   ],
   "source": [
    "from sklearn.datasets import make_regression\n",
    "from sklearn.linear_model import LinearRegression\n",
    "from matplotlib import pyplot\n",
    "\n",
    "# define dataset\n",
    "x = data[[\"Pregnancies\", \"Glucose\", \"BloodPressure\", \"SkinThickness\", \"BMI\", \"DiabetesPedigreeFunction\", \"Age\"]]\n",
    "y = data[\"Insulin\"]\n",
    "\n",
    "# define the model\n",
    "model = LinearRegression()\n",
    "\n",
    "# fit the model\n",
    "model.fit(x, y)\n",
    "\n",
    "# get importance\n",
    "importance = model.coef_\n",
    "\n",
    "# summarize feature importance\n",
    "for i,v in enumerate(importance):\n",
    "    print('Feature: %0d, Score: %.5f' % (i,v))\n",
    "\n",
    "# plot feature importance\n",
    "pyplot.bar([x for x in range(len(importance))], importance)\n",
    "pyplot.show()"
   ]
  },
  {
   "cell_type": "markdown",
   "metadata": {},
   "source": [
    "## 5. Non-linear regression\n",
    "\n",
    "\n",
    "Many of the relationships between variables we study are non-linear. As we have seen in theory, we can highlight the functions logarithmic, inverse, quadratic, cubic, power, exponential, etc.\n",
    "\n",
    "a) Include which non-linear functions best fit the available data."
   ]
  },
  {
   "cell_type": "code",
   "execution_count": 54,
   "metadata": {},
   "outputs": [
    {
     "data": {
      "text/plain": [
       "((392, 1), (392, 1))"
      ]
     },
     "execution_count": 54,
     "metadata": {},
     "output_type": "execute_result"
    }
   ],
   "source": [
    "#Create input and output data\n",
    "x = data[[\"Glucose\"]]\n",
    "y = data[[\"Insulin\"]]\n",
    "\n",
    "x.shape, y.shape"
   ]
  },
  {
   "cell_type": "code",
   "execution_count": 55,
   "metadata": {},
   "outputs": [],
   "source": [
    "# Split the data set in two different subsets: training and test\n",
    "from sklearn.model_selection import train_test_split\n",
    "from sklearn.utils import shuffle\n",
    "\n",
    "x, y = shuffle(x,y, random_state=0)\n",
    "X_train, X_test, Y_train, Y_test = train_test_split(x, y)"
   ]
  },
  {
   "cell_type": "markdown",
   "metadata": {},
   "source": [
    "***Exponential***"
   ]
  },
  {
   "cell_type": "code",
   "execution_count": 56,
   "metadata": {},
   "outputs": [],
   "source": [
    "import pandas as pd\n",
    "import numpy as np \n",
    "from sklearn.preprocessing import PolynomialFeatures, StandardScaler\n",
    "from sklearn.linear_model import LinearRegression\n",
    "from sklearn import metrics\n",
    "def EvaluateRegression(Test_data,Predict_data):\n",
    "    MAE = np.round(metrics.mean_absolute_error(Test_data, Predict_data),3)\n",
    "    MSE = np.round(metrics.mean_squared_error(Test_data, Predict_data),3)\n",
    "    RMSE = np.round(np.sqrt(metrics.mean_squared_error(Test_data, Predict_data)),3)\n",
    "    print('Mean absolute error :',MAE)\n",
    "    print('Mean square error :',MSE)\n",
    "    print('RMSE :',RMSE)\n",
    "    return MAE,MSE,RMSE"
   ]
  },
  {
   "cell_type": "code",
   "execution_count": 57,
   "metadata": {},
   "outputs": [
    {
     "name": "stdout",
     "output_type": "stream",
     "text": [
      "Mean absolute error : 0.433\n",
      "Mean square error : 0.356\n",
      "RMSE : 0.596\n"
     ]
    }
   ],
   "source": [
    "x1 = np.log(x)\n",
    "y1 = np.log(y)\n",
    "\n",
    "x, y = shuffle(x1,y1, random_state=0)\n",
    "X_train, X_test, Y_train, Y_test = train_test_split(x, y)\n",
    "\n",
    "poly = PolynomialFeatures(degree=1)\n",
    "linear_poly = LinearRegression()\n",
    "X_train_rdy = poly.fit_transform(X_train)\n",
    "linear_poly.fit(X_train_rdy,Y_train)\n",
    "X_test_rdy = poly.fit_transform(X_test)\n",
    "\n",
    "Input_model= linear_poly\n",
    "\n",
    "MAE, MSE, RMSE = EvaluateRegression(Y_test,  Input_model.predict(X_test_rdy))"
   ]
  },
  {
   "cell_type": "markdown",
   "metadata": {},
   "source": [
    "***Quadratic***"
   ]
  },
  {
   "cell_type": "code",
   "execution_count": 58,
   "metadata": {},
   "outputs": [
    {
     "data": {
      "text/plain": [
       "((392, 1), (392, 1))"
      ]
     },
     "execution_count": 58,
     "metadata": {},
     "output_type": "execute_result"
    }
   ],
   "source": [
    "#Create input and output data\n",
    "x = data[[\"Glucose\"]]\n",
    "y = data[[\"Insulin\"]]\n",
    "\n",
    "x.shape, y.shape"
   ]
  },
  {
   "cell_type": "code",
   "execution_count": 59,
   "metadata": {},
   "outputs": [],
   "source": [
    "# Split the data set in two different subsets: training and test\n",
    "from sklearn.model_selection import train_test_split\n",
    "from sklearn.utils import shuffle\n",
    "\n",
    "x, y = shuffle(x,y, random_state=0)\n",
    "X_train, X_test, Y_train, Y_test = train_test_split(x, y)"
   ]
  },
  {
   "cell_type": "code",
   "execution_count": 60,
   "metadata": {},
   "outputs": [
    {
     "name": "stdout",
     "output_type": "stream",
     "text": [
      "Mean absolute error : 61.697\n",
      "Mean square error : 7953.936\n",
      "RMSE : 89.185\n"
     ]
    }
   ],
   "source": [
    "poly = PolynomialFeatures(degree=2)\n",
    "linear_poly = LinearRegression()\n",
    "X_train_rdy = poly.fit_transform(X_train)\n",
    "linear_poly.fit(X_train_rdy,Y_train)\n",
    "X_test_rdy = poly.fit_transform(X_test)\n",
    "\n",
    "Input_model= linear_poly\n",
    "\n",
    "MAE, MSE, RMSE = EvaluateRegression(Y_test,  Input_model.predict(X_test_rdy))"
   ]
  },
  {
   "cell_type": "markdown",
   "metadata": {},
   "source": [
    "***Qubic***"
   ]
  },
  {
   "cell_type": "code",
   "execution_count": 61,
   "metadata": {},
   "outputs": [
    {
     "name": "stdout",
     "output_type": "stream",
     "text": [
      "Mean absolute error : 61.614\n",
      "Mean square error : 7973.486\n",
      "RMSE : 89.294\n"
     ]
    }
   ],
   "source": [
    "poly = PolynomialFeatures(degree=3)\n",
    "linear_poly = LinearRegression()\n",
    "X_train_rdy = poly.fit_transform(X_train)\n",
    "linear_poly.fit(X_train_rdy,Y_train)\n",
    "X_test_rdy = poly.fit_transform(X_test)\n",
    "\n",
    "Input_model= linear_poly\n",
    "\n",
    "MAE, MSE, RMSE = EvaluateRegression(Y_test,  Input_model.predict(X_test_rdy))"
   ]
  },
  {
   "cell_type": "markdown",
   "metadata": {},
   "source": [
    "b) Indicate whether the performance obtained in the test set changes after normalizing the variables."
   ]
  },
  {
   "cell_type": "markdown",
   "metadata": {},
   "source": [
    "***Exponential***"
   ]
  },
  {
   "cell_type": "code",
   "execution_count": 62,
   "metadata": {},
   "outputs": [],
   "source": [
    "x1 = np.log(x)\n",
    "y1 = np.log(y)\n",
    "\n",
    "x, y = shuffle(x1,y1, random_state=0)\n",
    "X_train, X_test, Y_train, Y_test = train_test_split(x, y)"
   ]
  },
  {
   "cell_type": "code",
   "execution_count": 63,
   "metadata": {},
   "outputs": [],
   "source": [
    "# Normalize variables\n",
    "from sklearn.preprocessing import StandardScaler\n",
    "\n",
    "scaler = StandardScaler()\n",
    "scaler.fit(X_train)\n",
    "X_train_norm = scaler.transform(X_train)\n",
    "X_test_norm = scaler.transform(X_test)\n",
    "Y_train_norm = scaler.transform(Y_train)\n",
    "Y_test_norm = scaler.transform(Y_test)"
   ]
  },
  {
   "cell_type": "code",
   "execution_count": 64,
   "metadata": {},
   "outputs": [
    {
     "name": "stdout",
     "output_type": "stream",
     "text": [
      "Mean absolute error : 0.464\n",
      "Mean square error : 0.399\n",
      "RMSE : 0.632\n"
     ]
    }
   ],
   "source": [
    "poly = PolynomialFeatures(degree=1)\n",
    "linear_poly = LinearRegression()\n",
    "X_train_rdy = poly.fit_transform(X_train)\n",
    "linear_poly.fit(X_train_rdy,Y_train)\n",
    "X_test_rdy = poly.fit_transform(X_test)\n",
    "\n",
    "Input_model= linear_poly\n",
    "\n",
    "MAE, MSE, RMSE = EvaluateRegression(Y_test,  Input_model.predict(X_test_rdy))"
   ]
  },
  {
   "cell_type": "markdown",
   "metadata": {},
   "source": [
    "***Quadratic***"
   ]
  },
  {
   "cell_type": "code",
   "execution_count": 65,
   "metadata": {},
   "outputs": [
    {
     "data": {
      "text/plain": [
       "((392, 1), (392, 1))"
      ]
     },
     "execution_count": 65,
     "metadata": {},
     "output_type": "execute_result"
    }
   ],
   "source": [
    "#Create input and output data\n",
    "x = data[[\"Glucose\"]]\n",
    "y = data[[\"Insulin\"]]\n",
    "\n",
    "x.shape, y.shape"
   ]
  },
  {
   "cell_type": "code",
   "execution_count": 66,
   "metadata": {},
   "outputs": [],
   "source": [
    "x1 = (x - x.mean())/x.std()\n",
    "y1 = (y - y.mean())/y.std()\n",
    "\n",
    "x, y = shuffle(x1,y1, random_state=0)\n",
    "X_train, X_test, Y_train, Y_test = train_test_split(x, y)"
   ]
  },
  {
   "cell_type": "code",
   "execution_count": 67,
   "metadata": {},
   "outputs": [
    {
     "name": "stdout",
     "output_type": "stream",
     "text": [
      "Mean absolute error : 0.49\n",
      "Mean square error : 0.42\n",
      "RMSE : 0.648\n"
     ]
    }
   ],
   "source": [
    "poly = PolynomialFeatures(degree=2)\n",
    "linear_poly = LinearRegression()\n",
    "X_train_rdy = poly.fit_transform(X_train)\n",
    "linear_poly.fit(X_train_rdy,Y_train)\n",
    "X_test_rdy = poly.fit_transform(X_test)\n",
    "\n",
    "Input_model= linear_poly\n",
    "\n",
    "MAE, MSE, RMSE = EvaluateRegression(Y_test,  Input_model.predict(X_test_rdy))"
   ]
  },
  {
   "cell_type": "markdown",
   "metadata": {},
   "source": [
    "***Qubic***"
   ]
  },
  {
   "cell_type": "code",
   "execution_count": 68,
   "metadata": {},
   "outputs": [
    {
     "name": "stdout",
     "output_type": "stream",
     "text": [
      "Mean absolute error : 0.496\n",
      "Mean square error : 0.424\n",
      "RMSE : 0.651\n"
     ]
    }
   ],
   "source": [
    "poly = PolynomialFeatures(degree=3)\n",
    "linear_poly = LinearRegression()\n",
    "X_train_rdy = poly.fit_transform(X_train)\n",
    "linear_poly.fit(X_train_rdy,Y_train)\n",
    "X_test_rdy = poly.fit_transform(X_test)\n",
    "\n",
    "Input_model= linear_poly\n",
    "\n",
    "MAE, MSE, RMSE = EvaluateRegression(Y_test,  Input_model.predict(X_test_rdy))"
   ]
  },
  {
   "cell_type": "markdown",
   "metadata": {},
   "source": [
    "## 6. Logistic regression"
   ]
  },
  {
   "cell_type": "markdown",
   "metadata": {},
   "source": [
    "In this section it is requested:\n",
    "\n",
    "a) To design a logistic regression model using the training and test subsets described above. Clearly indicate what the desired output is."
   ]
  },
  {
   "cell_type": "code",
   "execution_count": 134,
   "metadata": {},
   "outputs": [
    {
     "data": {
      "text/plain": [
       "((392, 8), (392,))"
      ]
     },
     "execution_count": 134,
     "metadata": {},
     "output_type": "execute_result"
    }
   ],
   "source": [
    "#Create input and output dataa\n",
    "x = data[[\"Pregnancies\", \"Glucose\", \"BloodPressure\", \"SkinThickness\", \"Insulin\", \"BMI\", \"DiabetesPedigreeFunction\", \"Age\"]]\n",
    "y = data[\"Outcome\"]\n",
    "\n",
    "x.shape, y.shape"
   ]
  },
  {
   "cell_type": "code",
   "execution_count": 135,
   "metadata": {},
   "outputs": [],
   "source": [
    "# Split the data set in two different subsets: training and test\n",
    "from sklearn.model_selection import train_test_split\n",
    "from sklearn.utils import shuffle\n",
    "\n",
    "x, y = shuffle(x,y, random_state=0)\n",
    "X_train, X_test, Y_train, Y_test = train_test_split(x, y)"
   ]
  },
  {
   "cell_type": "code",
   "execution_count": 136,
   "metadata": {},
   "outputs": [],
   "source": [
    "import matplotlib.pyplot as plt\n",
    "import numpy as np\n",
    "from sklearn.linear_model import LogisticRegression\n",
    "from sklearn.metrics import classification_report, confusion_matrix"
   ]
  },
  {
   "cell_type": "code",
   "execution_count": 137,
   "metadata": {},
   "outputs": [
    {
     "data": {
      "text/plain": [
       "0.7653061224489796"
      ]
     },
     "execution_count": 137,
     "metadata": {},
     "output_type": "execute_result"
    }
   ],
   "source": [
    "model = LogisticRegression(solver='liblinear', random_state=0).fit(x, y)\n",
    "model.fit(X_train, Y_train)\n",
    "\n",
    "model.predict(X_test)\n",
    "model.score(X_test, Y_test)"
   ]
  },
  {
   "cell_type": "markdown",
   "metadata": {},
   "source": [
    "b) Discuss the confusion matrix as well as the results obtained based on two evaluation measures considered."
   ]
  },
  {
   "cell_type": "code",
   "execution_count": 138,
   "metadata": {},
   "outputs": [
    {
     "data": {
      "text/plain": [
       "array([[57,  6],\n",
       "       [17, 18]], dtype=int64)"
      ]
     },
     "execution_count": 138,
     "metadata": {},
     "output_type": "execute_result"
    }
   ],
   "source": [
    "confusion_matrix(Y_test, model.predict(X_test))"
   ]
  },
  {
   "cell_type": "markdown",
   "metadata": {},
   "source": [
    "c) Indicate whether the performance obtained in the test set changes after normalizing the variables."
   ]
  },
  {
   "cell_type": "code",
   "execution_count": 139,
   "metadata": {},
   "outputs": [
    {
     "data": {
      "text/plain": [
       "0.7959183673469388"
      ]
     },
     "execution_count": 139,
     "metadata": {},
     "output_type": "execute_result"
    }
   ],
   "source": [
    "# Normalize variables\n",
    "from sklearn.preprocessing import StandardScaler\n",
    "\n",
    "scaler = StandardScaler()\n",
    "scaler.fit(X_train)\n",
    "X_train_norm = scaler.transform(X_train)\n",
    "X_test_norm = scaler.transform(X_test)\n",
    "\n",
    "model = LogisticRegression(solver='liblinear', random_state=0).fit(x, y)\n",
    "model.fit(X_train_norm, Y_train)\n",
    "\n",
    "model.predict(X_test_norm)\n",
    "model.score(X_test_norm, Y_test)"
   ]
  },
  {
   "cell_type": "markdown",
   "metadata": {},
   "source": [
    "d) Justify which characteristics are more relevant in this case."
   ]
  },
  {
   "cell_type": "markdown",
   "metadata": {},
   "source": [
    "## 7. Comparison of the results obtained with the different classifiers\n",
    "## Assigment 2!!"
   ]
  },
  {
   "cell_type": "markdown",
   "metadata": {},
   "source": [
    "Provide in a table the performance measures  obtained both in the validation and test set  by the different models designed."
   ]
  },
  {
   "cell_type": "code",
   "execution_count": 80,
   "metadata": {},
   "outputs": [
    {
     "data": {
      "text/html": [
       "<div>\n",
       "<style scoped>\n",
       "    .dataframe tbody tr th:only-of-type {\n",
       "        vertical-align: middle;\n",
       "    }\n",
       "\n",
       "    .dataframe tbody tr th {\n",
       "        vertical-align: top;\n",
       "    }\n",
       "\n",
       "    .dataframe thead th {\n",
       "        text-align: right;\n",
       "    }\n",
       "</style>\n",
       "<table border=\"1\" class=\"dataframe\">\n",
       "  <thead>\n",
       "    <tr style=\"text-align: right;\">\n",
       "      <th></th>\n",
       "      <th>·</th>\n",
       "      <th>Linear</th>\n",
       "      <th>Linear Norm</th>\n",
       "      <th>Multi (3)</th>\n",
       "      <th>Multi (3) Norm</th>\n",
       "      <th>Exp</th>\n",
       "      <th>Exp Norm</th>\n",
       "      <th>Quad</th>\n",
       "      <th>Quad Norm</th>\n",
       "      <th>Qub</th>\n",
       "      <th>Qub Norm</th>\n",
       "    </tr>\n",
       "  </thead>\n",
       "  <tbody>\n",
       "    <tr>\n",
       "      <th>0</th>\n",
       "      <td>R2</td>\n",
       "      <td>0.38</td>\n",
       "      <td>0.40</td>\n",
       "      <td>0.21</td>\n",
       "      <td>0.39</td>\n",
       "      <td>-</td>\n",
       "      <td>-</td>\n",
       "      <td>-</td>\n",
       "      <td>-</td>\n",
       "      <td>-</td>\n",
       "      <td>-</td>\n",
       "    </tr>\n",
       "    <tr>\n",
       "      <th>1</th>\n",
       "      <td>MSE</td>\n",
       "      <td>106.71</td>\n",
       "      <td>0.79</td>\n",
       "      <td>29.81</td>\n",
       "      <td>0.73</td>\n",
       "      <td>0.36</td>\n",
       "      <td>0.40</td>\n",
       "      <td>7953.94</td>\n",
       "      <td>0.42</td>\n",
       "      <td>7973.49</td>\n",
       "      <td>0.42</td>\n",
       "    </tr>\n",
       "    <tr>\n",
       "      <th>2</th>\n",
       "      <td>MAE</td>\n",
       "      <td>65.84</td>\n",
       "      <td>0.51</td>\n",
       "      <td>69.70</td>\n",
       "      <td>0.49</td>\n",
       "      <td>0.43</td>\n",
       "      <td>0.46</td>\n",
       "      <td>61.70</td>\n",
       "      <td>0.49</td>\n",
       "      <td>61.61</td>\n",
       "      <td>0.50</td>\n",
       "    </tr>\n",
       "    <tr>\n",
       "      <th>3</th>\n",
       "      <td>RMSE</td>\n",
       "      <td>-</td>\n",
       "      <td>-</td>\n",
       "      <td>-</td>\n",
       "      <td>-</td>\n",
       "      <td>0.60</td>\n",
       "      <td>0.63</td>\n",
       "      <td>89.19</td>\n",
       "      <td>0.65</td>\n",
       "      <td>89.29</td>\n",
       "      <td>0.65</td>\n",
       "    </tr>\n",
       "  </tbody>\n",
       "</table>\n",
       "</div>"
      ],
      "text/plain": [
       "      · Linear  Linear Norm Multi (3) Multi (3) Norm   Exp Exp Norm     Quad  \\\n",
       "0    R2    0.38        0.40      0.21           0.39     -        -        -   \n",
       "1   MSE  106.71        0.79     29.81           0.73  0.36     0.40  7953.94   \n",
       "2   MAE   65.84        0.51     69.70           0.49  0.43     0.46    61.70   \n",
       "3  RMSE       -           -         -              -  0.60     0.63    89.19   \n",
       "\n",
       "  Quad Norm      Qub Qub Norm  \n",
       "0         -        -        -  \n",
       "1      0.42  7973.49     0.42  \n",
       "2      0.49    61.61     0.50  \n",
       "3      0.65    89.29     0.65  "
      ]
     },
     "execution_count": 80,
     "metadata": {},
     "output_type": "execute_result"
    }
   ],
   "source": [
    "#Load data\n",
    "tabla = pd.read_excel(\"tabla.xlsx\") #We can change this database\n",
    "tabla.head()"
   ]
  },
  {
   "cell_type": "markdown",
   "metadata": {},
   "source": [
    "In view of the results obtained, please answer, if possible, the following questions:\n",
    "\n",
    "a) Justify whether the fact of normalizing the feature's values influence the results obtained."
   ]
  },
  {
   "cell_type": "markdown",
   "metadata": {},
   "source": [
    "***As we have seen above, normalizing a variable does change the \"measurement\" results, such as MAE or MSE, as we have checked with Simple Linear Regression and Non-Linear regression. It also does affect the performance of the estimators, like in logistic regression, improving it in this case.***"
   ]
  },
  {
   "cell_type": "markdown",
   "metadata": {},
   "source": [
    "b) Reasonably justify whether you would use a linear or non-linear parametric scheme. Indicate and justify the scheme that provides the best performance in the set of tests.\n"
   ]
  },
  {
   "cell_type": "markdown",
   "metadata": {},
   "source": [
    "***In  our case, the best performance obtained for the MSE was in the Exponential Regression, with a value of 0.399.***"
   ]
  },
  {
   "cell_type": "markdown",
   "metadata": {},
   "source": [
    "c) Indicate and justifiy which are the most relevant feautures as well as the procedure to identify them.\n"
   ]
  },
  {
   "cell_type": "markdown",
   "metadata": {},
   "source": [
    "***For simple linear correlation, we can check the correlation among variables in the correlation matrix.\n",
    "For multiple linear regression we computed an iteration of the relationships between features and the variable \"Insulin\" and we computed every score to see the prior weight of each feature on the outcome decission.*** "
   ]
  },
  {
   "cell_type": "markdown",
   "metadata": {},
   "source": [
    "d) Indicate and justify  whether the fact of making a single partition of the cases in the training and test sets can influence the results obtained. Starting from the original data, make a new partition of the cases in the training and test sets. Select one of the analyzed classifiers (indicate the chosen classifier) and obtain again the confusion matrix and the evaluation measures. Comment the obtained results. "
   ]
  },
  {
   "cell_type": "markdown",
   "metadata": {},
   "source": [
    "***As we can see, we have increased the test size proportion (from 0.25 which is default to 0.3), and the accuracy obtained in this case is lower than the original one. Nevertheless, for this new configuration there are more true positives in the confussion matrix, but there are more false positives.***"
   ]
  },
  {
   "cell_type": "code",
   "execution_count": 141,
   "metadata": {},
   "outputs": [
    {
     "data": {
      "text/plain": [
       "((392, 8), (392,))"
      ]
     },
     "execution_count": 141,
     "metadata": {},
     "output_type": "execute_result"
    }
   ],
   "source": [
    "#Create input and output dataa\n",
    "x = data[[\"Pregnancies\", \"Glucose\", \"BloodPressure\", \"SkinThickness\", \"Insulin\", \"BMI\", \"DiabetesPedigreeFunction\", \"Age\"]]\n",
    "y = data[\"Outcome\"]\n",
    "\n",
    "x.shape, y.shape"
   ]
  },
  {
   "cell_type": "code",
   "execution_count": 142,
   "metadata": {},
   "outputs": [],
   "source": [
    "# Split the data set in two different subsets: training and test\n",
    "from sklearn.model_selection import train_test_split\n",
    "from sklearn.utils import shuffle\n",
    "\n",
    "x, y = shuffle(x,y, random_state=0)\n",
    "X_train, X_test, Y_train, Y_test = train_test_split(x, y, test_size=0.3)"
   ]
  },
  {
   "cell_type": "code",
   "execution_count": 143,
   "metadata": {},
   "outputs": [],
   "source": [
    "import matplotlib.pyplot as plt\n",
    "import numpy as np\n",
    "from sklearn.linear_model import LogisticRegression\n",
    "from sklearn.metrics import classification_report, confusion_matrix"
   ]
  },
  {
   "cell_type": "code",
   "execution_count": 144,
   "metadata": {},
   "outputs": [
    {
     "data": {
      "text/plain": [
       "0.7288135593220338"
      ]
     },
     "execution_count": 144,
     "metadata": {},
     "output_type": "execute_result"
    }
   ],
   "source": [
    "model = LogisticRegression(solver='liblinear', random_state=0).fit(x, y)\n",
    "model.fit(X_train, Y_train)\n",
    "\n",
    "model.predict(X_test)\n",
    "model.score(X_test, Y_test)"
   ]
  },
  {
   "cell_type": "code",
   "execution_count": 145,
   "metadata": {},
   "outputs": [
    {
     "data": {
      "text/plain": [
       "array([[64, 10],\n",
       "       [22, 22]], dtype=int64)"
      ]
     },
     "execution_count": 145,
     "metadata": {},
     "output_type": "execute_result"
    }
   ],
   "source": [
    "confusion_matrix(Y_test, model.predict(X_test))"
   ]
  }
 ],
 "metadata": {
  "kernelspec": {
   "display_name": "Python 3",
   "language": "python",
   "name": "python3"
  },
  "language_info": {
   "codemirror_mode": {
    "name": "ipython",
    "version": 3
   },
   "file_extension": ".py",
   "mimetype": "text/x-python",
   "name": "python",
   "nbconvert_exporter": "python",
   "pygments_lexer": "ipython3",
   "version": "3.8.3"
  }
 },
 "nbformat": 4,
 "nbformat_minor": 2
}
