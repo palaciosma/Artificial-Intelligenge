{
 "cells": [
  {
   "cell_type": "markdown",
   "metadata": {},
   "source": [
    "# Unit 3.  Non-Parametric classification"
   ]
  },
  {
   "cell_type": "code",
   "execution_count": 1,
   "metadata": {},
   "outputs": [],
   "source": [
    "import pandas as pd\n",
    "import numpy as np\n",
    "import matplotlib.pyplot as plt\n",
    "import scipy.stats as ss\n",
    "import seaborn as sbn\n",
    "import sklearn\n",
    "from sklearn.model_selection import train_test_split, cross_val_score\n",
    "from sklearn.linear_model import LogisticRegression\n",
    "from sklearn import linear_model\n",
    "from sklearn import model_selection\n",
    "from sklearn.metrics import classification_report\n",
    "from sklearn.metrics import confusion_matrix\n",
    "from sklearn.metrics import accuracy_score\n",
    "from sklearn.metrics import confusion_matrix\n",
    "from sklearn.neighbors import KNeighborsClassifier\n",
    "from sklearn.model_selection import learning_curve, GridSearchCV\n",
    "from sklearn.pipeline import Pipeline\n",
    "from sklearn import preprocessing\n",
    "from sklearn import tree\n",
    "\n",
    "from sklearn.naive_bayes import GaussianNB\n",
    "from mlxtend.plotting import plot_learning_curves"
   ]
  },
  {
   "cell_type": "code",
   "execution_count": 2,
   "metadata": {},
   "outputs": [],
   "source": [
    "# Read the database\n",
    "db = pd.read_csv('pima_indian_diabetes.csv')"
   ]
  },
  {
   "cell_type": "code",
   "execution_count": 3,
   "metadata": {},
   "outputs": [],
   "source": [
    "db['Glucose'] = db['Glucose'].replace(0, np.nan)\n",
    "db['BloodPressure'] = db['BloodPressure'].replace(0, np.nan)\n",
    "db['SkinThickness'] = db['SkinThickness'].replace(0, np.nan)\n",
    "db['Insulin'] = db['Insulin'].replace(0, np.nan)\n",
    "db['BMI'] = db['BMI'].replace(0, np.nan)\n",
    "db = db.fillna(np.mean(db))"
   ]
  },
  {
   "cell_type": "code",
   "execution_count": 4,
   "metadata": {},
   "outputs": [
    {
     "data": {
      "text/html": [
       "<div>\n",
       "<style scoped>\n",
       "    .dataframe tbody tr th:only-of-type {\n",
       "        vertical-align: middle;\n",
       "    }\n",
       "\n",
       "    .dataframe tbody tr th {\n",
       "        vertical-align: top;\n",
       "    }\n",
       "\n",
       "    .dataframe thead th {\n",
       "        text-align: right;\n",
       "    }\n",
       "</style>\n",
       "<table border=\"1\" class=\"dataframe\">\n",
       "  <thead>\n",
       "    <tr style=\"text-align: right;\">\n",
       "      <th></th>\n",
       "      <th>Pregnancies</th>\n",
       "      <th>Glucose</th>\n",
       "      <th>BloodPressure</th>\n",
       "      <th>SkinThickness</th>\n",
       "      <th>Insulin</th>\n",
       "      <th>BMI</th>\n",
       "      <th>DiabetesPedigreeFunction</th>\n",
       "      <th>Age</th>\n",
       "      <th>Outcome</th>\n",
       "    </tr>\n",
       "  </thead>\n",
       "  <tbody>\n",
       "    <tr>\n",
       "      <th>count</th>\n",
       "      <td>768.000000</td>\n",
       "      <td>768.000000</td>\n",
       "      <td>768.000000</td>\n",
       "      <td>768.000000</td>\n",
       "      <td>768.000000</td>\n",
       "      <td>768.000000</td>\n",
       "      <td>768.000000</td>\n",
       "      <td>768.000000</td>\n",
       "      <td>768.000000</td>\n",
       "    </tr>\n",
       "    <tr>\n",
       "      <th>mean</th>\n",
       "      <td>3.845052</td>\n",
       "      <td>121.686763</td>\n",
       "      <td>72.405184</td>\n",
       "      <td>29.153420</td>\n",
       "      <td>155.548223</td>\n",
       "      <td>32.457464</td>\n",
       "      <td>0.471876</td>\n",
       "      <td>33.240885</td>\n",
       "      <td>0.348958</td>\n",
       "    </tr>\n",
       "    <tr>\n",
       "      <th>std</th>\n",
       "      <td>3.369578</td>\n",
       "      <td>30.435949</td>\n",
       "      <td>12.096346</td>\n",
       "      <td>8.790942</td>\n",
       "      <td>85.021108</td>\n",
       "      <td>6.875151</td>\n",
       "      <td>0.331329</td>\n",
       "      <td>11.760232</td>\n",
       "      <td>0.476951</td>\n",
       "    </tr>\n",
       "    <tr>\n",
       "      <th>min</th>\n",
       "      <td>0.000000</td>\n",
       "      <td>44.000000</td>\n",
       "      <td>24.000000</td>\n",
       "      <td>7.000000</td>\n",
       "      <td>14.000000</td>\n",
       "      <td>18.200000</td>\n",
       "      <td>0.078000</td>\n",
       "      <td>21.000000</td>\n",
       "      <td>0.000000</td>\n",
       "    </tr>\n",
       "    <tr>\n",
       "      <th>25%</th>\n",
       "      <td>1.000000</td>\n",
       "      <td>99.750000</td>\n",
       "      <td>64.000000</td>\n",
       "      <td>25.000000</td>\n",
       "      <td>121.500000</td>\n",
       "      <td>27.500000</td>\n",
       "      <td>0.243750</td>\n",
       "      <td>24.000000</td>\n",
       "      <td>0.000000</td>\n",
       "    </tr>\n",
       "    <tr>\n",
       "      <th>50%</th>\n",
       "      <td>3.000000</td>\n",
       "      <td>117.000000</td>\n",
       "      <td>72.202592</td>\n",
       "      <td>29.153420</td>\n",
       "      <td>155.548223</td>\n",
       "      <td>32.400000</td>\n",
       "      <td>0.372500</td>\n",
       "      <td>29.000000</td>\n",
       "      <td>0.000000</td>\n",
       "    </tr>\n",
       "    <tr>\n",
       "      <th>75%</th>\n",
       "      <td>6.000000</td>\n",
       "      <td>140.250000</td>\n",
       "      <td>80.000000</td>\n",
       "      <td>32.000000</td>\n",
       "      <td>155.548223</td>\n",
       "      <td>36.600000</td>\n",
       "      <td>0.626250</td>\n",
       "      <td>41.000000</td>\n",
       "      <td>1.000000</td>\n",
       "    </tr>\n",
       "    <tr>\n",
       "      <th>max</th>\n",
       "      <td>17.000000</td>\n",
       "      <td>199.000000</td>\n",
       "      <td>122.000000</td>\n",
       "      <td>99.000000</td>\n",
       "      <td>846.000000</td>\n",
       "      <td>67.100000</td>\n",
       "      <td>2.420000</td>\n",
       "      <td>81.000000</td>\n",
       "      <td>1.000000</td>\n",
       "    </tr>\n",
       "  </tbody>\n",
       "</table>\n",
       "</div>"
      ],
      "text/plain": [
       "       Pregnancies     Glucose  BloodPressure  SkinThickness     Insulin  \\\n",
       "count   768.000000  768.000000     768.000000     768.000000  768.000000   \n",
       "mean      3.845052  121.686763      72.405184      29.153420  155.548223   \n",
       "std       3.369578   30.435949      12.096346       8.790942   85.021108   \n",
       "min       0.000000   44.000000      24.000000       7.000000   14.000000   \n",
       "25%       1.000000   99.750000      64.000000      25.000000  121.500000   \n",
       "50%       3.000000  117.000000      72.202592      29.153420  155.548223   \n",
       "75%       6.000000  140.250000      80.000000      32.000000  155.548223   \n",
       "max      17.000000  199.000000     122.000000      99.000000  846.000000   \n",
       "\n",
       "              BMI  DiabetesPedigreeFunction         Age     Outcome  \n",
       "count  768.000000                768.000000  768.000000  768.000000  \n",
       "mean    32.457464                  0.471876   33.240885    0.348958  \n",
       "std      6.875151                  0.331329   11.760232    0.476951  \n",
       "min     18.200000                  0.078000   21.000000    0.000000  \n",
       "25%     27.500000                  0.243750   24.000000    0.000000  \n",
       "50%     32.400000                  0.372500   29.000000    0.000000  \n",
       "75%     36.600000                  0.626250   41.000000    1.000000  \n",
       "max     67.100000                  2.420000   81.000000    1.000000  "
      ]
     },
     "execution_count": 4,
     "metadata": {},
     "output_type": "execute_result"
    }
   ],
   "source": [
    "db.describe()"
   ]
  },
  {
   "cell_type": "code",
   "execution_count": 5,
   "metadata": {},
   "outputs": [
    {
     "name": "stdout",
     "output_type": "stream",
     "text": [
      "(768, 8)\n",
      "(768,)\n"
     ]
    }
   ],
   "source": [
    "# Create X and Y\n",
    "X = db.drop(['Outcome'], axis = 1)\n",
    "Y = db['Outcome']\n",
    "print(X.shape)\n",
    "print(Y.shape)"
   ]
  },
  {
   "cell_type": "code",
   "execution_count": 6,
   "metadata": {},
   "outputs": [],
   "source": [
    "# Separate in train and test\n",
    "X_train, X_test, Y_train, Y_test = train_test_split(X, Y, test_size = 0.3, random_state=2)"
   ]
  },
  {
   "cell_type": "code",
   "execution_count": 7,
   "metadata": {},
   "outputs": [
    {
     "name": "stdout",
     "output_type": "stream",
     "text": [
      "(537, 8)\n",
      "(231, 8)\n"
     ]
    }
   ],
   "source": [
    "# Normalize data\n",
    "X_norm = preprocessing.scale(X_train)\n",
    "scaler = preprocessing.StandardScaler().fit(X_train)\n",
    "X_train_norm = scaler.transform(X_train)\n",
    "X_test_norm = scaler.transform(X_test)\n",
    "print(X_train_norm.shape)\n",
    "print(X_test_norm.shape)"
   ]
  },
  {
   "cell_type": "code",
   "execution_count": 16,
   "metadata": {},
   "outputs": [],
   "source": [
    "# k-NN withouth cross-validation --> INCORRECT"
   ]
  },
  {
   "cell_type": "code",
   "execution_count": 17,
   "metadata": {},
   "outputs": [
    {
     "name": "stdout",
     "output_type": "stream",
     "text": [
      "Accuracy:  0.7359307359307359\n"
     ]
    }
   ],
   "source": [
    "# Design KNN model, for example wih k = 3\n",
    "knn = KNeighborsClassifier(n_neighbors = 3)\n",
    "\n",
    "# train the model\n",
    "knn.fit(X_train, Y_train)\n",
    "\n",
    "## Predict using X_test\n",
    "y_pred = knn.predict(X_test)\n",
    "\n",
    "print('Accuracy: ', knn.score(X_test, Y_test))"
   ]
  },
  {
   "cell_type": "code",
   "execution_count": 18,
   "metadata": {},
   "outputs": [],
   "source": [
    "k_values = range(1,31,2)"
   ]
  },
  {
   "cell_type": "code",
   "execution_count": 19,
   "metadata": {},
   "outputs": [
    {
     "name": "stdout",
     "output_type": "stream",
     "text": [
      "range(1, 31, 2)\n"
     ]
    }
   ],
   "source": [
    "print(k_values)"
   ]
  },
  {
   "cell_type": "code",
   "execution_count": 20,
   "metadata": {},
   "outputs": [
    {
     "name": "stdout",
     "output_type": "stream",
     "text": [
      "Score [0.65363128 0.69832402 0.67039106]\n",
      "Score [0.67039106 0.69832402 0.67039106]\n",
      "Score [0.65921788 0.74860335 0.69832402]\n",
      "Score [0.68715084 0.74860335 0.70391061]\n",
      "Score [0.70391061 0.73184358 0.72625698]\n",
      "Score [0.70391061 0.74860335 0.73184358]\n",
      "Score [0.69832402 0.74301676 0.72067039]\n",
      "Score [0.69832402 0.75977654 0.70391061]\n",
      "Score [0.70391061 0.77653631 0.70391061]\n",
      "Score [0.70949721 0.77653631 0.72067039]\n",
      "Score [0.69273743 0.77094972 0.72067039]\n",
      "Score [0.69273743 0.77653631 0.72625698]\n",
      "Score [0.70391061 0.76536313 0.70949721]\n",
      "Score [0.70949721 0.75977654 0.67039106]\n",
      "Score [0.72067039 0.76536313 0.69273743]\n"
     ]
    },
    {
     "data": {
      "image/png": "[encoded data removed]",
      "text/plain": [
       "<Figure size 432x288 with 1 Axes>"
      ]
     },
     "metadata": {
      "needs_background": "light"
     },
     "output_type": "display_data"
    },
    {
     "name": "stdout",
     "output_type": "stream",
     "text": [
      "19\n"
     ]
    }
   ],
   "source": [
    "cv_k_scores=[]\n",
    "for k in k_values:\n",
    "    kNN=KNeighborsClassifier(n_neighbors=k)\n",
    "    scores= cross_val_score(kNN, X_train, Y_train, cv=3, scoring='accuracy')\n",
    "    print('Score',scores)\n",
    "    cv_k_scores.append(scores.mean())\n",
    "    \n",
    "plt.plot(k_values, cv_k_scores)\n",
    "plt.xlabel('k')\n",
    "plt.ylabel('CV accuracy')\n",
    "plt.show()\n",
    "\n",
    "# Select the maximum because we are considering accuracuy\n",
    "print(np.array(k_values)[cv_k_scores.index(np.array(cv_k_scores).max())])"
   ]
  },
  {
   "cell_type": "code",
   "execution_count": 21,
   "metadata": {},
   "outputs": [],
   "source": [
    "kNN=KNeighborsClassifier(n_neighbors=np.array(k_values)[cv_k_scores.index(np.array(cv_k_scores).max())])\n",
    "model=kNN.fit(X_train,Y_train) "
   ]
  },
  {
   "cell_type": "code",
   "execution_count": 22,
   "metadata": {},
   "outputs": [],
   "source": [
    "y_pred=model.predict(X_test)"
   ]
  },
  {
   "cell_type": "code",
   "execution_count": 23,
   "metadata": {},
   "outputs": [
    {
     "name": "stdout",
     "output_type": "stream",
     "text": [
      "0.7662337662337663\n",
      "[[132  23]\n",
      " [ 31  45]]\n"
     ]
    }
   ],
   "source": [
    "print(accuracy_score(Y_test, y_pred))\n",
    "print(confusion_matrix(Y_test, y_pred))"
   ]
  },
  {
   "cell_type": "code",
   "execution_count": 24,
   "metadata": {},
   "outputs": [
    {
     "name": "stdout",
     "output_type": "stream",
     "text": [
      "{'n_neighbors': 19}\n"
     ]
    }
   ],
   "source": [
    "# GridSearchCV\n",
    "param_grid = {'n_neighbors': k_values}\n",
    "# k-NN\n",
    "kNN_model=KNeighborsClassifier()\n",
    "#use gridsearch to test all values\n",
    "grid = GridSearchCV(kNN_model, param_grid, cv = 3, scoring = 'accuracy')\n",
    "grid.fit(X_train,Y_train)\n",
    "print(grid.best_params_)\n"
   ]
  },
  {
   "cell_type": "code",
   "execution_count": 25,
   "metadata": {},
   "outputs": [
    {
     "name": "stdout",
     "output_type": "stream",
     "text": [
      "0.7662337662337663\n",
      "[[132  23]\n",
      " [ 31  45]]\n"
     ]
    }
   ],
   "source": [
    "my_model = grid.best_estimator_\n",
    "my_model.fit(X_train, Y_train)\n",
    "y_predicted = my_model.predict(X_test)\n",
    "print(accuracy_score(Y_test, y_predicted))\n",
    "print(confusion_matrix(Y_test, y_predicted))"
   ]
  },
  {
   "cell_type": "code",
   "execution_count": 26,
   "metadata": {},
   "outputs": [
    {
     "name": "stderr",
     "output_type": "stream",
     "text": [
      "C:\\Users\\palac\\Anaconda3\\lib\\site-packages\\sklearn\\utils\\validation.py:68: FutureWarning: Pass param_name=n_neighbors, param_range=range(1, 31, 2) as keyword args. From version 0.25 passing these as positional arguments will result in an error\n",
      "  warnings.warn(\"Pass {} as keyword args. From version 0.25 \"\n"
     ]
    },
    {
     "data": {
      "image/png": "[encoded data removed]",
      "text/plain": [
       "<Figure size 432x288 with 1 Axes>"
      ]
     },
     "metadata": {
      "needs_background": "light"
     },
     "output_type": "display_data"
    }
   ],
   "source": [
    "from sklearn.model_selection import learning_curve, GridSearchCV\n",
    "from sklearn.model_selection import validation_curve, GridSearchCV\n",
    "train_score, val_score = validation_curve(KNeighborsClassifier(), X_train, Y_train,\n",
    "                                          'n_neighbors', k_values, cv=3)\n",
    "\n",
    "plt.plot(k_values, np.mean(train_score, 1), color='blue', label='Training accuracy')\n",
    "plt.plot(k_values, np.mean(val_score, 1), color='red', label='Validation accuracy')\n",
    "plt.legend(loc='best')\n",
    "plt.ylim(0, 1.2)\n",
    "plt.xlabel('k')\n",
    "plt.ylabel('Accuracy');"
   ]
  },
  {
   "cell_type": "markdown",
   "metadata": {},
   "source": [
    "## Decision Trees\n",
    "\n",
    "Design a decision tree based classifier using the training and test subsets described above.\n",
    "\n",
    "Include the confusion matrix as well as the results obtained based on two evaluation measures considered.\n"
   ]
  },
  {
   "cell_type": "code",
   "execution_count": 27,
   "metadata": {},
   "outputs": [],
   "source": [
    "# Free parameters\n",
    "max_depth = np.arange(3, 15)\n",
    "min_samples_leaf = [50, 100, 200]"
   ]
  },
  {
   "cell_type": "code",
   "execution_count": 28,
   "metadata": {},
   "outputs": [
    {
     "name": "stdout",
     "output_type": "stream",
     "text": [
      "{'criterion': 'gini', 'max_depth': 3}\n"
     ]
    }
   ],
   "source": [
    "# GridSearchCV\n",
    "param_grid = { 'criterion':['gini','entropy'],'max_depth': np.arange(3, 15)}\n",
    "\n",
    "# decision tree model\n",
    "dtree_model=tree.DecisionTreeClassifier()\n",
    "\n",
    "#use gridsearch to test all values\n",
    "dtree_model = GridSearchCV(dtree_model, param_grid, cv=5)\n",
    "\n",
    "#fit model to data\n",
    "dtree_model=dtree_model.fit(X_train, Y_train)\n",
    "print(dtree_model.best_params_)"
   ]
  },
  {
   "cell_type": "code",
   "execution_count": 29,
   "metadata": {},
   "outputs": [
    {
     "name": "stdout",
     "output_type": "stream",
     "text": [
      "0.7532467532467533\n",
      "[[130  25]\n",
      " [ 32  44]]\n"
     ]
    }
   ],
   "source": [
    "# Train de model\n",
    "my_model = dtree_model.best_estimator_\n",
    "my_tree=my_model.fit(X_train, Y_train)\n",
    "\n",
    "#Predict using X_test\n",
    "y_predicted = my_model.predict(X_test)\n",
    "\n",
    "# Results\n",
    "print(accuracy_score(Y_test, y_predicted))\n",
    "print(confusion_matrix(Y_test, y_predicted))\n"
   ]
  },
  {
   "cell_type": "code",
   "execution_count": 30,
   "metadata": {},
   "outputs": [
    {
     "data": {
      "text/plain": [
       "3"
      ]
     },
     "execution_count": 30,
     "metadata": {},
     "output_type": "execute_result"
    }
   ],
   "source": [
    "my_tree.get_depth()"
   ]
  },
  {
   "cell_type": "code",
   "execution_count": 31,
   "metadata": {},
   "outputs": [
    {
     "data": {
      "text/plain": [
       "{'ccp_alpha': 0.0,\n",
       " 'class_weight': None,\n",
       " 'criterion': 'gini',\n",
       " 'max_depth': 3,\n",
       " 'max_features': None,\n",
       " 'max_leaf_nodes': None,\n",
       " 'min_impurity_decrease': 0.0,\n",
       " 'min_impurity_split': None,\n",
       " 'min_samples_leaf': 1,\n",
       " 'min_samples_split': 2,\n",
       " 'min_weight_fraction_leaf': 0.0,\n",
       " 'presort': 'deprecated',\n",
       " 'random_state': None,\n",
       " 'splitter': 'best'}"
      ]
     },
     "execution_count": 31,
     "metadata": {},
     "output_type": "execute_result"
    }
   ],
   "source": [
    "my_tree.get_params()"
   ]
  },
  {
   "cell_type": "code",
   "execution_count": 32,
   "metadata": {},
   "outputs": [
    {
     "data": {
      "image/png": "[encoded data removed]",
      "text/plain": [
       "<Figure size 432x288 with 1 Axes>"
      ]
     },
     "metadata": {
      "needs_background": "light"
     },
     "output_type": "display_data"
    }
   ],
   "source": [
    "from matplotlib import pyplot\n",
    "importance=my_tree.feature_importances_\n",
    "pyplot.bar([x for x in range(len(importance))], importance)\n",
    "pyplot.show()"
   ]
  },
  {
   "cell_type": "code",
   "execution_count": 33,
   "metadata": {},
   "outputs": [],
   "source": [
    "from sklearn.tree import export_graphviz\n",
    "#from sklearn.externals.six import StringIO  \n",
    "from six import StringIO\n",
    "from IPython.display import Image  \n",
    "import pydotplus"
   ]
  },
  {
   "cell_type": "code",
   "execution_count": 34,
   "metadata": {
    "scrolled": true
   },
   "outputs": [
    {
     "name": "stderr",
     "output_type": "stream",
     "text": [
      "C:\\Users\\palac\\Anaconda3\\lib\\site-packages\\sklearn\\utils\\validation.py:68: FutureWarning: Pass param_name=max_depth, param_range=[ 3  4  5  6  7  8  9 10 11 12 13 14] as keyword args. From version 0.25 passing these as positional arguments will result in an error\n",
      "  warnings.warn(\"Pass {} as keyword args. From version 0.25 \"\n"
     ]
    },
    {
     "data": {
      "image/png": "[encoded data removed]",
      "text/plain": [
       "<Figure size 432x288 with 1 Axes>"
      ]
     },
     "metadata": {
      "needs_background": "light"
     },
     "output_type": "display_data"
    }
   ],
   "source": [
    "from sklearn.model_selection import learning_curve, GridSearchCV\n",
    "#from sklearn.learning_curve import validation_curve\n",
    "from sklearn.model_selection import validation_curve, GridSearchCV\n",
    "train_score, val_score = validation_curve(tree.DecisionTreeClassifier(), X_train, Y_train,\n",
    "                                          'max_depth', max_depth, cv=3)\n",
    "\n",
    "plt.plot(max_depth, np.mean(train_score, 1), color='blue', label='Training accuracy')\n",
    "plt.plot(max_depth, np.mean(val_score, 1), color='red', label='Validation accuracy')\n",
    "plt.legend(loc='best')\n",
    "plt.ylim(0, 1.2)\n",
    "plt.xlabel('Depth')\n",
    "plt.ylabel('Accuracy');"
   ]
  },
  {
   "cell_type": "code",
   "execution_count": 35,
   "metadata": {},
   "outputs": [
    {
     "data": {
      "image/svg+xml": [
       "<?xml version=\"1.0\" encoding=\"UTF-8\" standalone=\"no\"?>\r\n",
       "<!DOCTYPE svg PUBLIC \"-//W3C//DTD SVG 1.1//EN\"\r\n",
       " \"http://www.w3.org/Graphics/SVG/1.1/DTD/svg11.dtd\">\r\n",
       "<!-- Generated by graphviz version 2.38.0 (20140413.2041)\r\n",
       " -->\r\n",
       "<!-- Title: Tree Pages: 1 -->\r\n",
       "<svg width=\"732pt\" height=\"373pt\"\r\n",
       " viewBox=\"0.00 0.00 732.00 373.00\" xmlns=\"http://www.w3.org/2000/svg\" xmlns:xlink=\"http://www.w3.org/1999/xlink\">\r\n",
       "<g id=\"graph0\" class=\"graph\" transform=\"scale(1 1) rotate(0) translate(4 369)\">\r\n",
       "<title>Tree</title>\r\n",
       "<polygon fill=\"white\" stroke=\"none\" points=\"-4,4 -4,-369 728,-369 728,4 -4,4\"/>\r\n",
       "<!-- 0 -->\r\n",
       "<g id=\"node1\" class=\"node\"><title>0</title>\r\n",
       "<path fill=\"#f4cbad\" stroke=\"black\" d=\"M328.5,-365C328.5,-365 230.5,-365 230.5,-365 224.5,-365 218.5,-359 218.5,-353 218.5,-353 218.5,-309 218.5,-309 218.5,-303 224.5,-297 230.5,-297 230.5,-297 328.5,-297 328.5,-297 334.5,-297 340.5,-303 340.5,-309 340.5,-309 340.5,-353 340.5,-353 340.5,-359 334.5,-365 328.5,-365\"/>\r\n",
       "<text text-anchor=\"start\" x=\"226.5\" y=\"-349.8\" font-family=\"Helvetica,sans-Serif\" font-size=\"14.00\">Glucose ≤ 127.5</text>\r\n",
       "<text text-anchor=\"start\" x=\"243\" y=\"-334.8\" font-family=\"Helvetica,sans-Serif\" font-size=\"14.00\">mse = 0.23</text>\r\n",
       "<text text-anchor=\"start\" x=\"232\" y=\"-319.8\" font-family=\"Helvetica,sans-Serif\" font-size=\"14.00\">samples = 537</text>\r\n",
       "<text text-anchor=\"start\" x=\"236.5\" y=\"-304.8\" font-family=\"Helvetica,sans-Serif\" font-size=\"14.00\">value = 0.358</text>\r\n",
       "</g>\r\n",
       "<!-- 1 -->\r\n",
       "<g id=\"node2\" class=\"node\"><title>1</title>\r\n",
       "<path fill=\"#f9e3d2\" stroke=\"black\" d=\"M228,-261C228,-261 141,-261 141,-261 135,-261 129,-255 129,-249 129,-249 129,-205 129,-205 129,-199 135,-193 141,-193 141,-193 228,-193 228,-193 234,-193 240,-199 240,-205 240,-205 240,-249 240,-249 240,-255 234,-261 228,-261\"/>\r\n",
       "<text text-anchor=\"start\" x=\"145.5\" y=\"-245.8\" font-family=\"Helvetica,sans-Serif\" font-size=\"14.00\">BMI ≤ 26.45</text>\r\n",
       "<text text-anchor=\"start\" x=\"144\" y=\"-230.8\" font-family=\"Helvetica,sans-Serif\" font-size=\"14.00\">mse = 0.156</text>\r\n",
       "<text text-anchor=\"start\" x=\"137\" y=\"-215.8\" font-family=\"Helvetica,sans-Serif\" font-size=\"14.00\">samples = 330</text>\r\n",
       "<text text-anchor=\"start\" x=\"141.5\" y=\"-200.8\" font-family=\"Helvetica,sans-Serif\" font-size=\"14.00\">value = 0.194</text>\r\n",
       "</g>\r\n",
       "<!-- 0&#45;&gt;1 -->\r\n",
       "<g id=\"edge1\" class=\"edge\"><title>0&#45;&gt;1</title>\r\n",
       "<path fill=\"none\" stroke=\"black\" d=\"M248.656,-296.884C240.277,-287.887 231.106,-278.041 222.387,-268.678\"/>\r\n",
       "<polygon fill=\"black\" stroke=\"black\" points=\"224.891,-266.232 215.514,-261.299 219.768,-271.003 224.891,-266.232\"/>\r\n",
       "<text text-anchor=\"middle\" x=\"214.626\" y=\"-282.584\" font-family=\"Helvetica,sans-Serif\" font-size=\"14.00\">True</text>\r\n",
       "</g>\r\n",
       "<!-- 6 -->\r\n",
       "<g id=\"node7\" class=\"node\"><title>6</title>\r\n",
       "<path fill=\"#eca571\" stroke=\"black\" d=\"M424.5,-261C424.5,-261 326.5,-261 326.5,-261 320.5,-261 314.5,-255 314.5,-249 314.5,-249 314.5,-205 314.5,-205 314.5,-199 320.5,-193 326.5,-193 326.5,-193 424.5,-193 424.5,-193 430.5,-193 436.5,-199 436.5,-205 436.5,-205 436.5,-249 436.5,-249 436.5,-255 430.5,-261 424.5,-261\"/>\r\n",
       "<text text-anchor=\"start\" x=\"322.5\" y=\"-245.8\" font-family=\"Helvetica,sans-Serif\" font-size=\"14.00\">Glucose ≤ 159.5</text>\r\n",
       "<text text-anchor=\"start\" x=\"335\" y=\"-230.8\" font-family=\"Helvetica,sans-Serif\" font-size=\"14.00\">mse = 0.236</text>\r\n",
       "<text text-anchor=\"start\" x=\"328\" y=\"-215.8\" font-family=\"Helvetica,sans-Serif\" font-size=\"14.00\">samples = 207</text>\r\n",
       "<text text-anchor=\"start\" x=\"332.5\" y=\"-200.8\" font-family=\"Helvetica,sans-Serif\" font-size=\"14.00\">value = 0.618</text>\r\n",
       "</g>\r\n",
       "<!-- 0&#45;&gt;6 -->\r\n",
       "<g id=\"edge6\" class=\"edge\"><title>0&#45;&gt;6</title>\r\n",
       "<path fill=\"none\" stroke=\"black\" d=\"M310.668,-296.884C319.136,-287.887 328.403,-278.041 337.215,-268.678\"/>\r\n",
       "<polygon fill=\"black\" stroke=\"black\" points=\"339.854,-270.98 344.159,-261.299 334.757,-266.183 339.854,-270.98\"/>\r\n",
       "<text text-anchor=\"middle\" x=\"344.917\" y=\"-282.588\" font-family=\"Helvetica,sans-Serif\" font-size=\"14.00\">False</text>\r\n",
       "</g>\r\n",
       "<!-- 2 -->\r\n",
       "<g id=\"node3\" class=\"node\"><title>2</title>\r\n",
       "<path fill=\"#ffffff\" stroke=\"black\" d=\"M99,-149.5C99,-149.5 20,-149.5 20,-149.5 14,-149.5 8,-143.5 8,-137.5 8,-137.5 8,-108.5 8,-108.5 8,-102.5 14,-96.5 20,-96.5 20,-96.5 99,-96.5 99,-96.5 105,-96.5 111,-102.5 111,-108.5 111,-108.5 111,-137.5 111,-137.5 111,-143.5 105,-149.5 99,-149.5\"/>\r\n",
       "<text text-anchor=\"start\" x=\"27.5\" y=\"-134.3\" font-family=\"Helvetica,sans-Serif\" font-size=\"14.00\">mse = 0.0</text>\r\n",
       "<text text-anchor=\"start\" x=\"16\" y=\"-119.3\" font-family=\"Helvetica,sans-Serif\" font-size=\"14.00\">samples = 89</text>\r\n",
       "<text text-anchor=\"start\" x=\"24.5\" y=\"-104.3\" font-family=\"Helvetica,sans-Serif\" font-size=\"14.00\">value = 0.0</text>\r\n",
       "</g>\r\n",
       "<!-- 1&#45;&gt;2 -->\r\n",
       "<g id=\"edge2\" class=\"edge\"><title>1&#45;&gt;2</title>\r\n",
       "<path fill=\"none\" stroke=\"black\" d=\"M143.916,-192.884C129.36,-181.006 112.988,-167.646 98.5637,-155.876\"/>\r\n",
       "<polygon fill=\"black\" stroke=\"black\" points=\"100.735,-153.13 90.7744,-149.52 96.3095,-158.554 100.735,-153.13\"/>\r\n",
       "</g>\r\n",
       "<!-- 3 -->\r\n",
       "<g id=\"node4\" class=\"node\"><title>3</title>\r\n",
       "<path fill=\"#f7d8c2\" stroke=\"black\" d=\"M228,-157C228,-157 141,-157 141,-157 135,-157 129,-151 129,-145 129,-145 129,-101 129,-101 129,-95 135,-89 141,-89 141,-89 228,-89 228,-89 234,-89 240,-95 240,-101 240,-101 240,-145 240,-145 240,-151 234,-157 228,-157\"/>\r\n",
       "<text text-anchor=\"start\" x=\"149.5\" y=\"-141.8\" font-family=\"Helvetica,sans-Serif\" font-size=\"14.00\">Age ≤ 28.5</text>\r\n",
       "<text text-anchor=\"start\" x=\"144\" y=\"-126.8\" font-family=\"Helvetica,sans-Serif\" font-size=\"14.00\">mse = 0.195</text>\r\n",
       "<text text-anchor=\"start\" x=\"137\" y=\"-111.8\" font-family=\"Helvetica,sans-Serif\" font-size=\"14.00\">samples = 241</text>\r\n",
       "<text text-anchor=\"start\" x=\"141.5\" y=\"-96.8\" font-family=\"Helvetica,sans-Serif\" font-size=\"14.00\">value = 0.266</text>\r\n",
       "</g>\r\n",
       "<!-- 1&#45;&gt;3 -->\r\n",
       "<g id=\"edge3\" class=\"edge\"><title>1&#45;&gt;3</title>\r\n",
       "<path fill=\"none\" stroke=\"black\" d=\"M184.5,-192.884C184.5,-184.778 184.5,-175.982 184.5,-167.472\"/>\r\n",
       "<polygon fill=\"black\" stroke=\"black\" points=\"188,-167.299 184.5,-157.299 181,-167.299 188,-167.299\"/>\r\n",
       "</g>\r\n",
       "<!-- 4 -->\r\n",
       "<g id=\"node5\" class=\"node\"><title>4</title>\r\n",
       "<path fill=\"#fbece1\" stroke=\"black\" d=\"M99,-53C99,-53 12,-53 12,-53 6,-53 0,-47 0,-41 0,-41 0,-12 0,-12 0,-6 6,-0 12,-0 12,-0 99,-0 99,-0 105,-0 111,-6 111,-12 111,-12 111,-41 111,-41 111,-47 105,-53 99,-53\"/>\r\n",
       "<text text-anchor=\"start\" x=\"15\" y=\"-37.8\" font-family=\"Helvetica,sans-Serif\" font-size=\"14.00\">mse = 0.113</text>\r\n",
       "<text text-anchor=\"start\" x=\"8\" y=\"-22.8\" font-family=\"Helvetica,sans-Serif\" font-size=\"14.00\">samples = 123</text>\r\n",
       "<text text-anchor=\"start\" x=\"16.5\" y=\"-7.8\" font-family=\"Helvetica,sans-Serif\" font-size=\"14.00\">value = 0.13</text>\r\n",
       "</g>\r\n",
       "<!-- 3&#45;&gt;4 -->\r\n",
       "<g id=\"edge4\" class=\"edge\"><title>3&#45;&gt;4</title>\r\n",
       "<path fill=\"none\" stroke=\"black\" d=\"M139.382,-88.9485C126.27,-79.3431 111.98,-68.8747 98.9709,-59.345\"/>\r\n",
       "<polygon fill=\"black\" stroke=\"black\" points=\"100.768,-56.3228 90.6326,-53.2367 96.6313,-61.9698 100.768,-56.3228\"/>\r\n",
       "</g>\r\n",
       "<!-- 5 -->\r\n",
       "<g id=\"node6\" class=\"node\"><title>5</title>\r\n",
       "<path fill=\"#f3c3a1\" stroke=\"black\" d=\"M228,-53C228,-53 141,-53 141,-53 135,-53 129,-47 129,-41 129,-41 129,-12 129,-12 129,-6 135,-0 141,-0 141,-0 228,-0 228,-0 234,-0 240,-6 240,-12 240,-12 240,-41 240,-41 240,-47 234,-53 228,-53\"/>\r\n",
       "<text text-anchor=\"start\" x=\"144\" y=\"-37.8\" font-family=\"Helvetica,sans-Serif\" font-size=\"14.00\">mse = 0.241</text>\r\n",
       "<text text-anchor=\"start\" x=\"137\" y=\"-22.8\" font-family=\"Helvetica,sans-Serif\" font-size=\"14.00\">samples = 118</text>\r\n",
       "<text text-anchor=\"start\" x=\"141.5\" y=\"-7.8\" font-family=\"Helvetica,sans-Serif\" font-size=\"14.00\">value = 0.407</text>\r\n",
       "</g>\r\n",
       "<!-- 3&#45;&gt;5 -->\r\n",
       "<g id=\"edge5\" class=\"edge\"><title>3&#45;&gt;5</title>\r\n",
       "<path fill=\"none\" stroke=\"black\" d=\"M184.5,-88.9485C184.5,-80.7153 184.5,-71.848 184.5,-63.4814\"/>\r\n",
       "<polygon fill=\"black\" stroke=\"black\" points=\"188,-63.2367 184.5,-53.2367 181,-63.2367 188,-63.2367\"/>\r\n",
       "</g>\r\n",
       "<!-- 7 -->\r\n",
       "<g id=\"node8\" class=\"node\"><title>7</title>\r\n",
       "<path fill=\"#f0b68d\" stroke=\"black\" d=\"M419,-157C419,-157 332,-157 332,-157 326,-157 320,-151 320,-145 320,-145 320,-101 320,-101 320,-95 326,-89 332,-89 332,-89 419,-89 419,-89 425,-89 431,-95 431,-101 431,-101 431,-145 431,-145 431,-151 425,-157 419,-157\"/>\r\n",
       "<text text-anchor=\"start\" x=\"340.5\" y=\"-141.8\" font-family=\"Helvetica,sans-Serif\" font-size=\"14.00\">BMI ≤ 27.8</text>\r\n",
       "<text text-anchor=\"start\" x=\"339\" y=\"-126.8\" font-family=\"Helvetica,sans-Serif\" font-size=\"14.00\">mse = 0.25</text>\r\n",
       "<text text-anchor=\"start\" x=\"328\" y=\"-111.8\" font-family=\"Helvetica,sans-Serif\" font-size=\"14.00\">samples = 133</text>\r\n",
       "<text text-anchor=\"start\" x=\"332.5\" y=\"-96.8\" font-family=\"Helvetica,sans-Serif\" font-size=\"14.00\">value = 0.496</text>\r\n",
       "</g>\r\n",
       "<!-- 6&#45;&gt;7 -->\r\n",
       "<g id=\"edge7\" class=\"edge\"><title>6&#45;&gt;7</title>\r\n",
       "<path fill=\"none\" stroke=\"black\" d=\"M375.5,-192.884C375.5,-184.778 375.5,-175.982 375.5,-167.472\"/>\r\n",
       "<polygon fill=\"black\" stroke=\"black\" points=\"379,-167.299 375.5,-157.299 372,-167.299 379,-167.299\"/>\r\n",
       "</g>\r\n",
       "<!-- 10 -->\r\n",
       "<g id=\"node11\" class=\"node\"><title>10</title>\r\n",
       "<path fill=\"#e6843e\" stroke=\"black\" d=\"M602,-157C602,-157 517,-157 517,-157 511,-157 505,-151 505,-145 505,-145 505,-101 505,-101 505,-95 511,-89 517,-89 517,-89 602,-89 602,-89 608,-89 614,-95 614,-101 614,-101 614,-145 614,-145 614,-151 608,-157 602,-157\"/>\r\n",
       "<text text-anchor=\"start\" x=\"513\" y=\"-141.8\" font-family=\"Helvetica,sans-Serif\" font-size=\"14.00\">Insulin ≤ 629.5</text>\r\n",
       "<text text-anchor=\"start\" x=\"519\" y=\"-126.8\" font-family=\"Helvetica,sans-Serif\" font-size=\"14.00\">mse = 0.136</text>\r\n",
       "<text text-anchor=\"start\" x=\"516\" y=\"-111.8\" font-family=\"Helvetica,sans-Serif\" font-size=\"14.00\">samples = 74</text>\r\n",
       "<text text-anchor=\"start\" x=\"516.5\" y=\"-96.8\" font-family=\"Helvetica,sans-Serif\" font-size=\"14.00\">value = 0.838</text>\r\n",
       "</g>\r\n",
       "<!-- 6&#45;&gt;10 -->\r\n",
       "<g id=\"edge10\" class=\"edge\"><title>6&#45;&gt;10</title>\r\n",
       "<path fill=\"none\" stroke=\"black\" d=\"M435.24,-192.884C454.622,-182.139 476.192,-170.181 495.849,-159.285\"/>\r\n",
       "<polygon fill=\"black\" stroke=\"black\" points=\"497.682,-162.271 504.731,-154.361 494.288,-156.148 497.682,-162.271\"/>\r\n",
       "</g>\r\n",
       "<!-- 8 -->\r\n",
       "<g id=\"node9\" class=\"node\"><title>8</title>\r\n",
       "<path fill=\"#f9e3d2\" stroke=\"black\" d=\"M349,-53C349,-53 270,-53 270,-53 264,-53 258,-47 258,-41 258,-41 258,-12 258,-12 258,-6 264,-0 270,-0 270,-0 349,-0 349,-0 355,-0 361,-6 361,-12 361,-12 361,-41 361,-41 361,-47 355,-53 349,-53\"/>\r\n",
       "<text text-anchor=\"start\" x=\"269\" y=\"-37.8\" font-family=\"Helvetica,sans-Serif\" font-size=\"14.00\">mse = 0.156</text>\r\n",
       "<text text-anchor=\"start\" x=\"266\" y=\"-22.8\" font-family=\"Helvetica,sans-Serif\" font-size=\"14.00\">samples = 31</text>\r\n",
       "<text text-anchor=\"start\" x=\"266.5\" y=\"-7.8\" font-family=\"Helvetica,sans-Serif\" font-size=\"14.00\">value = 0.194</text>\r\n",
       "</g>\r\n",
       "<!-- 7&#45;&gt;8 -->\r\n",
       "<g id=\"edge8\" class=\"edge\"><title>7&#45;&gt;8</title>\r\n",
       "<path fill=\"none\" stroke=\"black\" d=\"M352.416,-88.9485C346.219,-80.0749 339.507,-70.4648 333.273,-61.5388\"/>\r\n",
       "<polygon fill=\"black\" stroke=\"black\" points=\"336.07,-59.4311 327.475,-53.2367 330.331,-63.4392 336.07,-59.4311\"/>\r\n",
       "</g>\r\n",
       "<!-- 9 -->\r\n",
       "<g id=\"node10\" class=\"node\"><title>9</title>\r\n",
       "<path fill=\"#eda978\" stroke=\"black\" d=\"M478,-53C478,-53 391,-53 391,-53 385,-53 379,-47 379,-41 379,-41 379,-12 379,-12 379,-6 385,-0 391,-0 391,-0 478,-0 478,-0 484,-0 490,-6 490,-12 490,-12 490,-41 490,-41 490,-47 484,-53 478,-53\"/>\r\n",
       "<text text-anchor=\"start\" x=\"394\" y=\"-37.8\" font-family=\"Helvetica,sans-Serif\" font-size=\"14.00\">mse = 0.242</text>\r\n",
       "<text text-anchor=\"start\" x=\"387\" y=\"-22.8\" font-family=\"Helvetica,sans-Serif\" font-size=\"14.00\">samples = 102</text>\r\n",
       "<text text-anchor=\"start\" x=\"391.5\" y=\"-7.8\" font-family=\"Helvetica,sans-Serif\" font-size=\"14.00\">value = 0.588</text>\r\n",
       "</g>\r\n",
       "<!-- 7&#45;&gt;9 -->\r\n",
       "<g id=\"edge9\" class=\"edge\"><title>7&#45;&gt;9</title>\r\n",
       "<path fill=\"none\" stroke=\"black\" d=\"M396.135,-88.9485C401.618,-80.1664 407.552,-70.6629 413.076,-61.815\"/>\r\n",
       "<polygon fill=\"black\" stroke=\"black\" points=\"416.104,-63.5728 418.432,-53.2367 410.167,-59.8656 416.104,-63.5728\"/>\r\n",
       "</g>\r\n",
       "<!-- 11 -->\r\n",
       "<g id=\"node12\" class=\"node\"><title>11</title>\r\n",
       "<path fill=\"#e58139\" stroke=\"black\" d=\"M599,-53C599,-53 520,-53 520,-53 514,-53 508,-47 508,-41 508,-41 508,-12 508,-12 508,-6 514,-0 520,-0 520,-0 599,-0 599,-0 605,-0 611,-6 611,-12 611,-12 611,-41 611,-41 611,-47 605,-53 599,-53\"/>\r\n",
       "<text text-anchor=\"start\" x=\"523\" y=\"-37.8\" font-family=\"Helvetica,sans-Serif\" font-size=\"14.00\">mse = 0.12</text>\r\n",
       "<text text-anchor=\"start\" x=\"516\" y=\"-22.8\" font-family=\"Helvetica,sans-Serif\" font-size=\"14.00\">samples = 72</text>\r\n",
       "<text text-anchor=\"start\" x=\"516.5\" y=\"-7.8\" font-family=\"Helvetica,sans-Serif\" font-size=\"14.00\">value = 0.861</text>\r\n",
       "</g>\r\n",
       "<!-- 10&#45;&gt;11 -->\r\n",
       "<g id=\"edge11\" class=\"edge\"><title>10&#45;&gt;11</title>\r\n",
       "<path fill=\"none\" stroke=\"black\" d=\"M559.5,-88.9485C559.5,-80.7153 559.5,-71.848 559.5,-63.4814\"/>\r\n",
       "<polygon fill=\"black\" stroke=\"black\" points=\"563,-63.2367 559.5,-53.2367 556,-63.2367 563,-63.2367\"/>\r\n",
       "</g>\r\n",
       "<!-- 12 -->\r\n",
       "<g id=\"node13\" class=\"node\"><title>12</title>\r\n",
       "<path fill=\"#ffffff\" stroke=\"black\" d=\"M712,-53C712,-53 641,-53 641,-53 635,-53 629,-47 629,-41 629,-41 629,-12 629,-12 629,-6 635,-0 641,-0 641,-0 712,-0 712,-0 718,-0 724,-6 724,-12 724,-12 724,-41 724,-41 724,-47 718,-53 712,-53\"/>\r\n",
       "<text text-anchor=\"start\" x=\"644.5\" y=\"-37.8\" font-family=\"Helvetica,sans-Serif\" font-size=\"14.00\">mse = 0.0</text>\r\n",
       "<text text-anchor=\"start\" x=\"637\" y=\"-22.8\" font-family=\"Helvetica,sans-Serif\" font-size=\"14.00\">samples = 2</text>\r\n",
       "<text text-anchor=\"start\" x=\"641.5\" y=\"-7.8\" font-family=\"Helvetica,sans-Serif\" font-size=\"14.00\">value = 0.0</text>\r\n",
       "</g>\r\n",
       "<!-- 10&#45;&gt;12 -->\r\n",
       "<g id=\"edge12\" class=\"edge\"><title>10&#45;&gt;12</title>\r\n",
       "<path fill=\"none\" stroke=\"black\" d=\"M600.421,-88.9485C612.2,-79.4346 625.027,-69.074 636.735,-59.6175\"/>\r\n",
       "<polygon fill=\"black\" stroke=\"black\" points=\"639.055,-62.2429 644.636,-53.2367 634.657,-56.7973 639.055,-62.2429\"/>\r\n",
       "</g>\r\n",
       "</g>\r\n",
       "</svg>\r\n"
      ],
      "text/plain": [
       "<graphviz.files.Source at 0x1c268e43d30>"
      ]
     },
     "execution_count": 35,
     "metadata": {},
     "output_type": "execute_result"
    }
   ],
   "source": [
    "import graphviz \n",
    "from sklearn.tree import export_graphviz, DecisionTreeRegressor\n",
    "\n",
    "clf = DecisionTreeRegressor(max_depth=3, random_state=0)\n",
    "clf.fit(X_train, Y_train)\n",
    "\n",
    "# plot\n",
    "dot_data = export_graphviz(clf,\n",
    "                           feature_names=db.columns[0:-1],\n",
    "                           out_file=None,\n",
    "                           filled=True,\n",
    "                           rounded=True,\n",
    "                           special_characters=True,\n",
    "                           class_names=['Diabetic','Non Diabetic'])\n",
    "graph = graphviz.Source(dot_data)\n",
    "graph"
   ]
  },
  {
   "cell_type": "markdown",
   "metadata": {},
   "source": [
    "# ASSIGNMENTS LAB 3"
   ]
  },
  {
   "cell_type": "markdown",
   "metadata": {},
   "source": [
    "## K-NN\n",
    "\n",
    "\n",
    "\n",
    "Justify the type of normalization considered and explain how it is done on each subset (training, validation and test). Indicate if the performance obtained in the test set changes after normalizing the variables.\n",
    "\n",
    "Reasonably explain the relationship between the capacity of generalization and the value of k. Include the obtained curves for an evaluation measure considered both for the train set and for the validation set as a function of the k parameter. Briefly comment on them."
   ]
  },
  {
   "cell_type": "markdown",
   "metadata": {},
   "source": [
    "#### Normalized "
   ]
  },
  {
   "cell_type": "code",
   "execution_count": 36,
   "metadata": {},
   "outputs": [],
   "source": [
    "# Normalize data\n",
    "X_norm = preprocessing.scale(X_train)\n",
    "scaler = preprocessing.StandardScaler().fit(X_train)\n",
    "X_train_norm = scaler.transform(X_train)\n",
    "X_test_norm = scaler.transform(X_test)"
   ]
  },
  {
   "cell_type": "code",
   "execution_count": 37,
   "metadata": {},
   "outputs": [],
   "source": [
    "k_values = range(1,31,2)"
   ]
  },
  {
   "cell_type": "code",
   "execution_count": 38,
   "metadata": {},
   "outputs": [
    {
     "name": "stdout",
     "output_type": "stream",
     "text": [
      "Score [0.66480447 0.65921788 0.68715084]\n",
      "Score [0.69832402 0.7150838  0.72625698]\n",
      "Score [0.70391061 0.74860335 0.77653631]\n",
      "Score [0.70949721 0.77653631 0.77094972]\n",
      "Score [0.72625698 0.78212291 0.76536313]\n",
      "Score [0.72625698 0.78212291 0.78212291]\n",
      "Score [0.73184358 0.79329609 0.79888268]\n",
      "Score [0.70391061 0.78212291 0.7877095 ]\n",
      "Score [0.68156425 0.78212291 0.80446927]\n",
      "Score [0.69273743 0.77653631 0.7877095 ]\n",
      "Score [0.7150838  0.77094972 0.77653631]\n",
      "Score [0.70949721 0.77653631 0.78212291]\n",
      "Score [0.72067039 0.7877095  0.77653631]\n",
      "Score [0.72625698 0.79888268 0.77094972]\n",
      "Score [0.72625698 0.77653631 0.78212291]\n"
     ]
    },
    {
     "data": {
      "image/png": "[encoded data removed]",
      "text/plain": [
       "<Figure size 432x288 with 1 Axes>"
      ]
     },
     "metadata": {
      "needs_background": "light"
     },
     "output_type": "display_data"
    },
    {
     "name": "stdout",
     "output_type": "stream",
     "text": [
      "13\n"
     ]
    }
   ],
   "source": [
    "cv_k_scores=[]\n",
    "for k in k_values:\n",
    "    kNN=KNeighborsClassifier(n_neighbors=k)\n",
    "    scores= cross_val_score(kNN, X_train_norm, Y_train, cv=3, scoring='accuracy')\n",
    "    print('Score',scores)\n",
    "    cv_k_scores.append(scores.mean())\n",
    "    \n",
    "plt.plot(k_values, cv_k_scores)\n",
    "plt.xlabel('k')\n",
    "plt.ylabel('CV accuracy')\n",
    "plt.show()\n",
    "\n",
    "# Select the maximum because we are considering accuracuy\n",
    "print(np.array(k_values)[cv_k_scores.index(np.array(cv_k_scores).max())])"
   ]
  },
  {
   "cell_type": "code",
   "execution_count": 39,
   "metadata": {},
   "outputs": [],
   "source": [
    "kNN=KNeighborsClassifier(n_neighbors=np.array(k_values)[cv_k_scores.index(np.array(cv_k_scores).max())])\n",
    "model=kNN.fit(X_train_norm,Y_train) "
   ]
  },
  {
   "cell_type": "code",
   "execution_count": 40,
   "metadata": {},
   "outputs": [],
   "source": [
    "y_pred=model.predict(X_test_norm)"
   ]
  },
  {
   "cell_type": "code",
   "execution_count": 41,
   "metadata": {},
   "outputs": [
    {
     "name": "stdout",
     "output_type": "stream",
     "text": [
      "0.7316017316017316\n",
      "[[133  22]\n",
      " [ 40  36]]\n"
     ]
    }
   ],
   "source": [
    "print(accuracy_score(Y_test, y_pred))\n",
    "print(confusion_matrix(Y_test, y_pred))"
   ]
  },
  {
   "cell_type": "code",
   "execution_count": 42,
   "metadata": {},
   "outputs": [
    {
     "name": "stderr",
     "output_type": "stream",
     "text": [
      "C:\\Users\\palac\\Anaconda3\\lib\\site-packages\\sklearn\\utils\\validation.py:68: FutureWarning: Pass param_name=n_neighbors, param_range=range(1, 31, 2) as keyword args. From version 0.25 passing these as positional arguments will result in an error\n",
      "  warnings.warn(\"Pass {} as keyword args. From version 0.25 \"\n"
     ]
    },
    {
     "data": {
      "image/png": "[encoded data removed]",
      "text/plain": [
       "<Figure size 432x288 with 1 Axes>"
      ]
     },
     "metadata": {
      "needs_background": "light"
     },
     "output_type": "display_data"
    }
   ],
   "source": [
    "from sklearn.model_selection import learning_curve, GridSearchCV\n",
    "from sklearn.model_selection import validation_curve, GridSearchCV\n",
    "train_score, val_score = validation_curve(KNeighborsClassifier(), X_train_norm, Y_train,\n",
    "                                          'n_neighbors', k_values, cv=3)\n",
    "\n",
    "plt.plot(k_values, np.mean(train_score, 1), color='blue', label='Training accuracy')\n",
    "plt.plot(k_values, np.mean(val_score, 1), color='red', label='Validation accuracy')\n",
    "plt.legend(loc='best')\n",
    "plt.ylim(0, 1.2)\n",
    "plt.xlabel('k')\n",
    "plt.ylabel('Accuracy');"
   ]
  },
  {
   "cell_type": "markdown",
   "metadata": {},
   "source": [
    "#### Not normalized"
   ]
  },
  {
   "cell_type": "code",
   "execution_count": 43,
   "metadata": {},
   "outputs": [
    {
     "name": "stdout",
     "output_type": "stream",
     "text": [
      "Score [0.65363128 0.69832402 0.67039106]\n",
      "Score [0.67039106 0.69832402 0.67039106]\n",
      "Score [0.65921788 0.74860335 0.69832402]\n",
      "Score [0.68715084 0.74860335 0.70391061]\n",
      "Score [0.70391061 0.73184358 0.72625698]\n",
      "Score [0.70391061 0.74860335 0.73184358]\n",
      "Score [0.69832402 0.74301676 0.72067039]\n",
      "Score [0.69832402 0.75977654 0.70391061]\n",
      "Score [0.70391061 0.77653631 0.70391061]\n",
      "Score [0.70949721 0.77653631 0.72067039]\n",
      "Score [0.69273743 0.77094972 0.72067039]\n",
      "Score [0.69273743 0.77653631 0.72625698]\n",
      "Score [0.70391061 0.76536313 0.70949721]\n",
      "Score [0.70949721 0.75977654 0.67039106]\n",
      "Score [0.72067039 0.76536313 0.69273743]\n"
     ]
    },
    {
     "data": {
      "image/png": "[encoded data removed]",
      "text/plain": [
       "<Figure size 432x288 with 1 Axes>"
      ]
     },
     "metadata": {
      "needs_background": "light"
     },
     "output_type": "display_data"
    },
    {
     "name": "stdout",
     "output_type": "stream",
     "text": [
      "19\n"
     ]
    }
   ],
   "source": [
    "cv_k_scores=[]\n",
    "for k in k_values:\n",
    "    kNN=KNeighborsClassifier(n_neighbors=k)\n",
    "    scores= cross_val_score(kNN, X_train, Y_train, cv=3, scoring='accuracy')\n",
    "    print('Score',scores)\n",
    "    cv_k_scores.append(scores.mean())\n",
    "    \n",
    "plt.plot(k_values, cv_k_scores)\n",
    "plt.xlabel('k')\n",
    "plt.ylabel('CV accuracy')\n",
    "plt.show()\n",
    "\n",
    "# Select the maximum because we are considering accuracuy\n",
    "print(np.array(k_values)[cv_k_scores.index(np.array(cv_k_scores).max())])"
   ]
  },
  {
   "cell_type": "code",
   "execution_count": 44,
   "metadata": {},
   "outputs": [],
   "source": [
    "kNN=KNeighborsClassifier(n_neighbors=np.array(k_values)[cv_k_scores.index(np.array(cv_k_scores).max())])\n",
    "model=kNN.fit(X_train,Y_train) "
   ]
  },
  {
   "cell_type": "code",
   "execution_count": 45,
   "metadata": {},
   "outputs": [],
   "source": [
    "y_pred=model.predict(X_test)"
   ]
  },
  {
   "cell_type": "code",
   "execution_count": 46,
   "metadata": {},
   "outputs": [
    {
     "name": "stdout",
     "output_type": "stream",
     "text": [
      "0.7662337662337663\n",
      "[[132  23]\n",
      " [ 31  45]]\n"
     ]
    }
   ],
   "source": [
    "print(accuracy_score(Y_test, y_pred))\n",
    "print(confusion_matrix(Y_test, y_pred))"
   ]
  },
  {
   "cell_type": "code",
   "execution_count": 47,
   "metadata": {},
   "outputs": [
    {
     "name": "stderr",
     "output_type": "stream",
     "text": [
      "C:\\Users\\palac\\Anaconda3\\lib\\site-packages\\sklearn\\utils\\validation.py:68: FutureWarning: Pass param_name=n_neighbors, param_range=range(1, 31, 2) as keyword args. From version 0.25 passing these as positional arguments will result in an error\n",
      "  warnings.warn(\"Pass {} as keyword args. From version 0.25 \"\n"
     ]
    },
    {
     "data": {
      "image/png": "[encoded data removed]",
      "text/plain": [
       "<Figure size 432x288 with 1 Axes>"
      ]
     },
     "metadata": {
      "needs_background": "light"
     },
     "output_type": "display_data"
    }
   ],
   "source": [
    "from sklearn.model_selection import learning_curve, GridSearchCV\n",
    "from sklearn.model_selection import validation_curve, GridSearchCV\n",
    "train_score, val_score = validation_curve(KNeighborsClassifier(), X_train, Y_train,\n",
    "                                          'n_neighbors', k_values, cv=3)\n",
    "\n",
    "plt.plot(k_values, np.mean(train_score, 1), color='blue', label='Training accuracy')\n",
    "plt.plot(k_values, np.mean(val_score, 1), color='red', label='Validation accuracy')\n",
    "plt.legend(loc='best')\n",
    "plt.ylim(0, 1.2)\n",
    "plt.xlabel('k')\n",
    "plt.ylabel('Accuracy');"
   ]
  },
  {
   "cell_type": "markdown",
   "metadata": {},
   "source": [
    "## Decision Trees\n",
    "\n",
    "Indicate if the performance obtained in the test set changes after normalizing the variables.\n",
    "\n",
    "In terms of under- and over-fitting, explain which is more likely to occur if the maximum number of cases per tree node is very small.\n",
    "\n",
    "Indicate which of the parameters explained in theory you have analyzed to achieve that the designed model has generalization capacity. Include the obtained curves for an evaluation measure considered both for the train set and for the validation set as a function of the selected parameter. Comment them briefly."
   ]
  },
  {
   "cell_type": "markdown",
   "metadata": {},
   "source": [
    "#### Normalized"
   ]
  },
  {
   "cell_type": "code",
   "execution_count": 48,
   "metadata": {},
   "outputs": [],
   "source": [
    "# Normalize data\n",
    "X_norm = preprocessing.scale(X_train)\n",
    "scaler = preprocessing.StandardScaler().fit(X_train)\n",
    "X_train_norm = scaler.transform(X_train)\n",
    "X_test_norm = scaler.transform(X_test)"
   ]
  },
  {
   "cell_type": "code",
   "execution_count": 49,
   "metadata": {},
   "outputs": [],
   "source": [
    "# Free parameters\n",
    "max_depth = np.arange(3, 15)\n",
    "min_samples_leaf = [50, 100, 200]"
   ]
  },
  {
   "cell_type": "code",
   "execution_count": 50,
   "metadata": {},
   "outputs": [
    {
     "name": "stdout",
     "output_type": "stream",
     "text": [
      "{'criterion': 'gini', 'max_depth': 3}\n"
     ]
    }
   ],
   "source": [
    "# GridSearchCV\n",
    "param_grid = { 'criterion':['gini','entropy'],'max_depth': np.arange(3, 15)}\n",
    "\n",
    "# decision tree model\n",
    "dtree_model=tree.DecisionTreeClassifier()\n",
    "\n",
    "#use gridsearch to test all values\n",
    "dtree_model = GridSearchCV(dtree_model, param_grid, cv=5)\n",
    "\n",
    "#fit model to data\n",
    "dtree_model=dtree_model.fit(X_train_norm, Y_train)\n",
    "print(dtree_model.best_params_)"
   ]
  },
  {
   "cell_type": "code",
   "execution_count": 51,
   "metadata": {},
   "outputs": [
    {
     "name": "stdout",
     "output_type": "stream",
     "text": [
      "0.7532467532467533\n",
      "[[130  25]\n",
      " [ 32  44]]\n"
     ]
    }
   ],
   "source": [
    "# Train de model\n",
    "my_model = dtree_model.best_estimator_\n",
    "my_tree=my_model.fit(X_train_norm, Y_train)\n",
    "\n",
    "#Predict using X_test\n",
    "y_predicted = my_model.predict(X_test_norm)\n",
    "\n",
    "# Results\n",
    "print(accuracy_score(Y_test, y_predicted))\n",
    "print(confusion_matrix(Y_test, y_predicted))"
   ]
  },
  {
   "cell_type": "code",
   "execution_count": 52,
   "metadata": {},
   "outputs": [
    {
     "name": "stderr",
     "output_type": "stream",
     "text": [
      "C:\\Users\\palac\\Anaconda3\\lib\\site-packages\\sklearn\\utils\\validation.py:68: FutureWarning: Pass param_name=max_depth, param_range=[ 3  4  5  6  7  8  9 10 11 12 13 14] as keyword args. From version 0.25 passing these as positional arguments will result in an error\n",
      "  warnings.warn(\"Pass {} as keyword args. From version 0.25 \"\n"
     ]
    },
    {
     "data": {
      "image/png": "[encoded data removed]",
      "text/plain": [
       "<Figure size 432x288 with 1 Axes>"
      ]
     },
     "metadata": {
      "needs_background": "light"
     },
     "output_type": "display_data"
    }
   ],
   "source": [
    "from sklearn.model_selection import learning_curve, GridSearchCV\n",
    "#from sklearn.learning_curve import validation_curve\n",
    "from sklearn.model_selection import validation_curve, GridSearchCV\n",
    "train_score, val_score = validation_curve(tree.DecisionTreeClassifier(), X_train_norm, Y_train,\n",
    "                                          'max_depth', max_depth, cv=3)\n",
    "\n",
    "plt.plot(max_depth, np.mean(train_score, 1), color='blue', label='Training accuracy')\n",
    "plt.plot(max_depth, np.mean(val_score, 1), color='red', label='Validation accuracy')\n",
    "plt.legend(loc='best')\n",
    "plt.ylim(0, 1.2)\n",
    "plt.xlabel('Depth')\n",
    "plt.ylabel('Accuracy');"
   ]
  },
  {
   "cell_type": "code",
   "execution_count": 53,
   "metadata": {},
   "outputs": [
    {
     "data": {
      "image/svg+xml": [
       "<?xml version=\"1.0\" encoding=\"UTF-8\" standalone=\"no\"?>\r\n",
       "<!DOCTYPE svg PUBLIC \"-//W3C//DTD SVG 1.1//EN\"\r\n",
       " \"http://www.w3.org/Graphics/SVG/1.1/DTD/svg11.dtd\">\r\n",
       "<!-- Generated by graphviz version 2.38.0 (20140413.2041)\r\n",
       " -->\r\n",
       "<!-- Title: Tree Pages: 1 -->\r\n",
       "<svg width=\"732pt\" height=\"373pt\"\r\n",
       " viewBox=\"0.00 0.00 732.00 373.00\" xmlns=\"http://www.w3.org/2000/svg\" xmlns:xlink=\"http://www.w3.org/1999/xlink\">\r\n",
       "<g id=\"graph0\" class=\"graph\" transform=\"scale(1 1) rotate(0) translate(4 369)\">\r\n",
       "<title>Tree</title>\r\n",
       "<polygon fill=\"white\" stroke=\"none\" points=\"-4,4 -4,-369 728,-369 728,4 -4,4\"/>\r\n",
       "<!-- 0 -->\r\n",
       "<g id=\"node1\" class=\"node\"><title>0</title>\r\n",
       "<path fill=\"#f4cbad\" stroke=\"black\" d=\"M328.5,-365C328.5,-365 230.5,-365 230.5,-365 224.5,-365 218.5,-359 218.5,-353 218.5,-353 218.5,-309 218.5,-309 218.5,-303 224.5,-297 230.5,-297 230.5,-297 328.5,-297 328.5,-297 334.5,-297 340.5,-303 340.5,-309 340.5,-309 340.5,-353 340.5,-353 340.5,-359 334.5,-365 328.5,-365\"/>\r\n",
       "<text text-anchor=\"start\" x=\"226.5\" y=\"-349.8\" font-family=\"Helvetica,sans-Serif\" font-size=\"14.00\">Glucose ≤ 0.161</text>\r\n",
       "<text text-anchor=\"start\" x=\"243\" y=\"-334.8\" font-family=\"Helvetica,sans-Serif\" font-size=\"14.00\">mse = 0.23</text>\r\n",
       "<text text-anchor=\"start\" x=\"232\" y=\"-319.8\" font-family=\"Helvetica,sans-Serif\" font-size=\"14.00\">samples = 537</text>\r\n",
       "<text text-anchor=\"start\" x=\"236.5\" y=\"-304.8\" font-family=\"Helvetica,sans-Serif\" font-size=\"14.00\">value = 0.358</text>\r\n",
       "</g>\r\n",
       "<!-- 1 -->\r\n",
       "<g id=\"node2\" class=\"node\"><title>1</title>\r\n",
       "<path fill=\"#f9e3d2\" stroke=\"black\" d=\"M228,-261C228,-261 141,-261 141,-261 135,-261 129,-255 129,-249 129,-249 129,-205 129,-205 129,-199 135,-193 141,-193 141,-193 228,-193 228,-193 234,-193 240,-199 240,-205 240,-205 240,-249 240,-249 240,-255 234,-261 228,-261\"/>\r\n",
       "<text text-anchor=\"start\" x=\"143.5\" y=\"-245.8\" font-family=\"Helvetica,sans-Serif\" font-size=\"14.00\">BMI ≤ &#45;0.845</text>\r\n",
       "<text text-anchor=\"start\" x=\"144\" y=\"-230.8\" font-family=\"Helvetica,sans-Serif\" font-size=\"14.00\">mse = 0.156</text>\r\n",
       "<text text-anchor=\"start\" x=\"137\" y=\"-215.8\" font-family=\"Helvetica,sans-Serif\" font-size=\"14.00\">samples = 330</text>\r\n",
       "<text text-anchor=\"start\" x=\"141.5\" y=\"-200.8\" font-family=\"Helvetica,sans-Serif\" font-size=\"14.00\">value = 0.194</text>\r\n",
       "</g>\r\n",
       "<!-- 0&#45;&gt;1 -->\r\n",
       "<g id=\"edge1\" class=\"edge\"><title>0&#45;&gt;1</title>\r\n",
       "<path fill=\"none\" stroke=\"black\" d=\"M248.656,-296.884C240.277,-287.887 231.106,-278.041 222.387,-268.678\"/>\r\n",
       "<polygon fill=\"black\" stroke=\"black\" points=\"224.891,-266.232 215.514,-261.299 219.768,-271.003 224.891,-266.232\"/>\r\n",
       "<text text-anchor=\"middle\" x=\"214.626\" y=\"-282.584\" font-family=\"Helvetica,sans-Serif\" font-size=\"14.00\">True</text>\r\n",
       "</g>\r\n",
       "<!-- 6 -->\r\n",
       "<g id=\"node7\" class=\"node\"><title>6</title>\r\n",
       "<path fill=\"#eca571\" stroke=\"black\" d=\"M424.5,-261C424.5,-261 326.5,-261 326.5,-261 320.5,-261 314.5,-255 314.5,-249 314.5,-249 314.5,-205 314.5,-205 314.5,-199 320.5,-193 326.5,-193 326.5,-193 424.5,-193 424.5,-193 430.5,-193 436.5,-199 436.5,-205 436.5,-205 436.5,-249 436.5,-249 436.5,-255 430.5,-261 424.5,-261\"/>\r\n",
       "<text text-anchor=\"start\" x=\"322.5\" y=\"-245.8\" font-family=\"Helvetica,sans-Serif\" font-size=\"14.00\">Glucose ≤ 1.217</text>\r\n",
       "<text text-anchor=\"start\" x=\"335\" y=\"-230.8\" font-family=\"Helvetica,sans-Serif\" font-size=\"14.00\">mse = 0.236</text>\r\n",
       "<text text-anchor=\"start\" x=\"328\" y=\"-215.8\" font-family=\"Helvetica,sans-Serif\" font-size=\"14.00\">samples = 207</text>\r\n",
       "<text text-anchor=\"start\" x=\"332.5\" y=\"-200.8\" font-family=\"Helvetica,sans-Serif\" font-size=\"14.00\">value = 0.618</text>\r\n",
       "</g>\r\n",
       "<!-- 0&#45;&gt;6 -->\r\n",
       "<g id=\"edge6\" class=\"edge\"><title>0&#45;&gt;6</title>\r\n",
       "<path fill=\"none\" stroke=\"black\" d=\"M310.668,-296.884C319.136,-287.887 328.403,-278.041 337.215,-268.678\"/>\r\n",
       "<polygon fill=\"black\" stroke=\"black\" points=\"339.854,-270.98 344.159,-261.299 334.757,-266.183 339.854,-270.98\"/>\r\n",
       "<text text-anchor=\"middle\" x=\"344.917\" y=\"-282.588\" font-family=\"Helvetica,sans-Serif\" font-size=\"14.00\">False</text>\r\n",
       "</g>\r\n",
       "<!-- 2 -->\r\n",
       "<g id=\"node3\" class=\"node\"><title>2</title>\r\n",
       "<path fill=\"#ffffff\" stroke=\"black\" d=\"M99,-149.5C99,-149.5 20,-149.5 20,-149.5 14,-149.5 8,-143.5 8,-137.5 8,-137.5 8,-108.5 8,-108.5 8,-102.5 14,-96.5 20,-96.5 20,-96.5 99,-96.5 99,-96.5 105,-96.5 111,-102.5 111,-108.5 111,-108.5 111,-137.5 111,-137.5 111,-143.5 105,-149.5 99,-149.5\"/>\r\n",
       "<text text-anchor=\"start\" x=\"27.5\" y=\"-134.3\" font-family=\"Helvetica,sans-Serif\" font-size=\"14.00\">mse = 0.0</text>\r\n",
       "<text text-anchor=\"start\" x=\"16\" y=\"-119.3\" font-family=\"Helvetica,sans-Serif\" font-size=\"14.00\">samples = 89</text>\r\n",
       "<text text-anchor=\"start\" x=\"24.5\" y=\"-104.3\" font-family=\"Helvetica,sans-Serif\" font-size=\"14.00\">value = 0.0</text>\r\n",
       "</g>\r\n",
       "<!-- 1&#45;&gt;2 -->\r\n",
       "<g id=\"edge2\" class=\"edge\"><title>1&#45;&gt;2</title>\r\n",
       "<path fill=\"none\" stroke=\"black\" d=\"M143.916,-192.884C129.36,-181.006 112.988,-167.646 98.5637,-155.876\"/>\r\n",
       "<polygon fill=\"black\" stroke=\"black\" points=\"100.735,-153.13 90.7744,-149.52 96.3095,-158.554 100.735,-153.13\"/>\r\n",
       "</g>\r\n",
       "<!-- 3 -->\r\n",
       "<g id=\"node4\" class=\"node\"><title>3</title>\r\n",
       "<path fill=\"#f7d8c2\" stroke=\"black\" d=\"M228,-157C228,-157 141,-157 141,-157 135,-157 129,-151 129,-145 129,-145 129,-101 129,-101 129,-95 135,-89 141,-89 141,-89 228,-89 228,-89 234,-89 240,-95 240,-101 240,-101 240,-145 240,-145 240,-151 234,-157 228,-157\"/>\r\n",
       "<text text-anchor=\"start\" x=\"143\" y=\"-141.8\" font-family=\"Helvetica,sans-Serif\" font-size=\"14.00\">Age ≤ &#45;0.414</text>\r\n",
       "<text text-anchor=\"start\" x=\"144\" y=\"-126.8\" font-family=\"Helvetica,sans-Serif\" font-size=\"14.00\">mse = 0.195</text>\r\n",
       "<text text-anchor=\"start\" x=\"137\" y=\"-111.8\" font-family=\"Helvetica,sans-Serif\" font-size=\"14.00\">samples = 241</text>\r\n",
       "<text text-anchor=\"start\" x=\"141.5\" y=\"-96.8\" font-family=\"Helvetica,sans-Serif\" font-size=\"14.00\">value = 0.266</text>\r\n",
       "</g>\r\n",
       "<!-- 1&#45;&gt;3 -->\r\n",
       "<g id=\"edge3\" class=\"edge\"><title>1&#45;&gt;3</title>\r\n",
       "<path fill=\"none\" stroke=\"black\" d=\"M184.5,-192.884C184.5,-184.778 184.5,-175.982 184.5,-167.472\"/>\r\n",
       "<polygon fill=\"black\" stroke=\"black\" points=\"188,-167.299 184.5,-157.299 181,-167.299 188,-167.299\"/>\r\n",
       "</g>\r\n",
       "<!-- 4 -->\r\n",
       "<g id=\"node5\" class=\"node\"><title>4</title>\r\n",
       "<path fill=\"#fbece1\" stroke=\"black\" d=\"M99,-53C99,-53 12,-53 12,-53 6,-53 0,-47 0,-41 0,-41 0,-12 0,-12 0,-6 6,-0 12,-0 12,-0 99,-0 99,-0 105,-0 111,-6 111,-12 111,-12 111,-41 111,-41 111,-47 105,-53 99,-53\"/>\r\n",
       "<text text-anchor=\"start\" x=\"15\" y=\"-37.8\" font-family=\"Helvetica,sans-Serif\" font-size=\"14.00\">mse = 0.113</text>\r\n",
       "<text text-anchor=\"start\" x=\"8\" y=\"-22.8\" font-family=\"Helvetica,sans-Serif\" font-size=\"14.00\">samples = 123</text>\r\n",
       "<text text-anchor=\"start\" x=\"16.5\" y=\"-7.8\" font-family=\"Helvetica,sans-Serif\" font-size=\"14.00\">value = 0.13</text>\r\n",
       "</g>\r\n",
       "<!-- 3&#45;&gt;4 -->\r\n",
       "<g id=\"edge4\" class=\"edge\"><title>3&#45;&gt;4</title>\r\n",
       "<path fill=\"none\" stroke=\"black\" d=\"M139.382,-88.9485C126.27,-79.3431 111.98,-68.8747 98.9709,-59.345\"/>\r\n",
       "<polygon fill=\"black\" stroke=\"black\" points=\"100.768,-56.3228 90.6326,-53.2367 96.6313,-61.9698 100.768,-56.3228\"/>\r\n",
       "</g>\r\n",
       "<!-- 5 -->\r\n",
       "<g id=\"node6\" class=\"node\"><title>5</title>\r\n",
       "<path fill=\"#f3c3a1\" stroke=\"black\" d=\"M228,-53C228,-53 141,-53 141,-53 135,-53 129,-47 129,-41 129,-41 129,-12 129,-12 129,-6 135,-0 141,-0 141,-0 228,-0 228,-0 234,-0 240,-6 240,-12 240,-12 240,-41 240,-41 240,-47 234,-53 228,-53\"/>\r\n",
       "<text text-anchor=\"start\" x=\"144\" y=\"-37.8\" font-family=\"Helvetica,sans-Serif\" font-size=\"14.00\">mse = 0.241</text>\r\n",
       "<text text-anchor=\"start\" x=\"137\" y=\"-22.8\" font-family=\"Helvetica,sans-Serif\" font-size=\"14.00\">samples = 118</text>\r\n",
       "<text text-anchor=\"start\" x=\"141.5\" y=\"-7.8\" font-family=\"Helvetica,sans-Serif\" font-size=\"14.00\">value = 0.407</text>\r\n",
       "</g>\r\n",
       "<!-- 3&#45;&gt;5 -->\r\n",
       "<g id=\"edge5\" class=\"edge\"><title>3&#45;&gt;5</title>\r\n",
       "<path fill=\"none\" stroke=\"black\" d=\"M184.5,-88.9485C184.5,-80.7153 184.5,-71.848 184.5,-63.4814\"/>\r\n",
       "<polygon fill=\"black\" stroke=\"black\" points=\"188,-63.2367 184.5,-53.2367 181,-63.2367 188,-63.2367\"/>\r\n",
       "</g>\r\n",
       "<!-- 7 -->\r\n",
       "<g id=\"node8\" class=\"node\"><title>7</title>\r\n",
       "<path fill=\"#f0b68d\" stroke=\"black\" d=\"M419,-157C419,-157 332,-157 332,-157 326,-157 320,-151 320,-145 320,-145 320,-101 320,-101 320,-95 326,-89 332,-89 332,-89 419,-89 419,-89 425,-89 431,-95 431,-101 431,-101 431,-145 431,-145 431,-151 425,-157 419,-157\"/>\r\n",
       "<text text-anchor=\"start\" x=\"338.5\" y=\"-141.8\" font-family=\"Helvetica,sans-Serif\" font-size=\"14.00\">BMI ≤ &#45;0.65</text>\r\n",
       "<text text-anchor=\"start\" x=\"339\" y=\"-126.8\" font-family=\"Helvetica,sans-Serif\" font-size=\"14.00\">mse = 0.25</text>\r\n",
       "<text text-anchor=\"start\" x=\"328\" y=\"-111.8\" font-family=\"Helvetica,sans-Serif\" font-size=\"14.00\">samples = 133</text>\r\n",
       "<text text-anchor=\"start\" x=\"332.5\" y=\"-96.8\" font-family=\"Helvetica,sans-Serif\" font-size=\"14.00\">value = 0.496</text>\r\n",
       "</g>\r\n",
       "<!-- 6&#45;&gt;7 -->\r\n",
       "<g id=\"edge7\" class=\"edge\"><title>6&#45;&gt;7</title>\r\n",
       "<path fill=\"none\" stroke=\"black\" d=\"M375.5,-192.884C375.5,-184.778 375.5,-175.982 375.5,-167.472\"/>\r\n",
       "<polygon fill=\"black\" stroke=\"black\" points=\"379,-167.299 375.5,-157.299 372,-167.299 379,-167.299\"/>\r\n",
       "</g>\r\n",
       "<!-- 10 -->\r\n",
       "<g id=\"node11\" class=\"node\"><title>10</title>\r\n",
       "<path fill=\"#e6843e\" stroke=\"black\" d=\"M602,-157C602,-157 517,-157 517,-157 511,-157 505,-151 505,-145 505,-145 505,-101 505,-101 505,-95 511,-89 517,-89 517,-89 602,-89 602,-89 608,-89 614,-95 614,-101 614,-101 614,-145 614,-145 614,-151 608,-157 602,-157\"/>\r\n",
       "<text text-anchor=\"start\" x=\"513\" y=\"-141.8\" font-family=\"Helvetica,sans-Serif\" font-size=\"14.00\">Insulin ≤ 5.298</text>\r\n",
       "<text text-anchor=\"start\" x=\"519\" y=\"-126.8\" font-family=\"Helvetica,sans-Serif\" font-size=\"14.00\">mse = 0.136</text>\r\n",
       "<text text-anchor=\"start\" x=\"516\" y=\"-111.8\" font-family=\"Helvetica,sans-Serif\" font-size=\"14.00\">samples = 74</text>\r\n",
       "<text text-anchor=\"start\" x=\"516.5\" y=\"-96.8\" font-family=\"Helvetica,sans-Serif\" font-size=\"14.00\">value = 0.838</text>\r\n",
       "</g>\r\n",
       "<!-- 6&#45;&gt;10 -->\r\n",
       "<g id=\"edge10\" class=\"edge\"><title>6&#45;&gt;10</title>\r\n",
       "<path fill=\"none\" stroke=\"black\" d=\"M435.24,-192.884C454.622,-182.139 476.192,-170.181 495.849,-159.285\"/>\r\n",
       "<polygon fill=\"black\" stroke=\"black\" points=\"497.682,-162.271 504.731,-154.361 494.288,-156.148 497.682,-162.271\"/>\r\n",
       "</g>\r\n",
       "<!-- 8 -->\r\n",
       "<g id=\"node9\" class=\"node\"><title>8</title>\r\n",
       "<path fill=\"#f9e3d2\" stroke=\"black\" d=\"M349,-53C349,-53 270,-53 270,-53 264,-53 258,-47 258,-41 258,-41 258,-12 258,-12 258,-6 264,-0 270,-0 270,-0 349,-0 349,-0 355,-0 361,-6 361,-12 361,-12 361,-41 361,-41 361,-47 355,-53 349,-53\"/>\r\n",
       "<text text-anchor=\"start\" x=\"269\" y=\"-37.8\" font-family=\"Helvetica,sans-Serif\" font-size=\"14.00\">mse = 0.156</text>\r\n",
       "<text text-anchor=\"start\" x=\"266\" y=\"-22.8\" font-family=\"Helvetica,sans-Serif\" font-size=\"14.00\">samples = 31</text>\r\n",
       "<text text-anchor=\"start\" x=\"266.5\" y=\"-7.8\" font-family=\"Helvetica,sans-Serif\" font-size=\"14.00\">value = 0.194</text>\r\n",
       "</g>\r\n",
       "<!-- 7&#45;&gt;8 -->\r\n",
       "<g id=\"edge8\" class=\"edge\"><title>7&#45;&gt;8</title>\r\n",
       "<path fill=\"none\" stroke=\"black\" d=\"M352.416,-88.9485C346.219,-80.0749 339.507,-70.4648 333.273,-61.5388\"/>\r\n",
       "<polygon fill=\"black\" stroke=\"black\" points=\"336.07,-59.4311 327.475,-53.2367 330.331,-63.4392 336.07,-59.4311\"/>\r\n",
       "</g>\r\n",
       "<!-- 9 -->\r\n",
       "<g id=\"node10\" class=\"node\"><title>9</title>\r\n",
       "<path fill=\"#eda978\" stroke=\"black\" d=\"M478,-53C478,-53 391,-53 391,-53 385,-53 379,-47 379,-41 379,-41 379,-12 379,-12 379,-6 385,-0 391,-0 391,-0 478,-0 478,-0 484,-0 490,-6 490,-12 490,-12 490,-41 490,-41 490,-47 484,-53 478,-53\"/>\r\n",
       "<text text-anchor=\"start\" x=\"394\" y=\"-37.8\" font-family=\"Helvetica,sans-Serif\" font-size=\"14.00\">mse = 0.242</text>\r\n",
       "<text text-anchor=\"start\" x=\"387\" y=\"-22.8\" font-family=\"Helvetica,sans-Serif\" font-size=\"14.00\">samples = 102</text>\r\n",
       "<text text-anchor=\"start\" x=\"391.5\" y=\"-7.8\" font-family=\"Helvetica,sans-Serif\" font-size=\"14.00\">value = 0.588</text>\r\n",
       "</g>\r\n",
       "<!-- 7&#45;&gt;9 -->\r\n",
       "<g id=\"edge9\" class=\"edge\"><title>7&#45;&gt;9</title>\r\n",
       "<path fill=\"none\" stroke=\"black\" d=\"M396.135,-88.9485C401.618,-80.1664 407.552,-70.6629 413.076,-61.815\"/>\r\n",
       "<polygon fill=\"black\" stroke=\"black\" points=\"416.104,-63.5728 418.432,-53.2367 410.167,-59.8656 416.104,-63.5728\"/>\r\n",
       "</g>\r\n",
       "<!-- 11 -->\r\n",
       "<g id=\"node12\" class=\"node\"><title>11</title>\r\n",
       "<path fill=\"#e58139\" stroke=\"black\" d=\"M599,-53C599,-53 520,-53 520,-53 514,-53 508,-47 508,-41 508,-41 508,-12 508,-12 508,-6 514,-0 520,-0 520,-0 599,-0 599,-0 605,-0 611,-6 611,-12 611,-12 611,-41 611,-41 611,-47 605,-53 599,-53\"/>\r\n",
       "<text text-anchor=\"start\" x=\"523\" y=\"-37.8\" font-family=\"Helvetica,sans-Serif\" font-size=\"14.00\">mse = 0.12</text>\r\n",
       "<text text-anchor=\"start\" x=\"516\" y=\"-22.8\" font-family=\"Helvetica,sans-Serif\" font-size=\"14.00\">samples = 72</text>\r\n",
       "<text text-anchor=\"start\" x=\"516.5\" y=\"-7.8\" font-family=\"Helvetica,sans-Serif\" font-size=\"14.00\">value = 0.861</text>\r\n",
       "</g>\r\n",
       "<!-- 10&#45;&gt;11 -->\r\n",
       "<g id=\"edge11\" class=\"edge\"><title>10&#45;&gt;11</title>\r\n",
       "<path fill=\"none\" stroke=\"black\" d=\"M559.5,-88.9485C559.5,-80.7153 559.5,-71.848 559.5,-63.4814\"/>\r\n",
       "<polygon fill=\"black\" stroke=\"black\" points=\"563,-63.2367 559.5,-53.2367 556,-63.2367 563,-63.2367\"/>\r\n",
       "</g>\r\n",
       "<!-- 12 -->\r\n",
       "<g id=\"node13\" class=\"node\"><title>12</title>\r\n",
       "<path fill=\"#ffffff\" stroke=\"black\" d=\"M712,-53C712,-53 641,-53 641,-53 635,-53 629,-47 629,-41 629,-41 629,-12 629,-12 629,-6 635,-0 641,-0 641,-0 712,-0 712,-0 718,-0 724,-6 724,-12 724,-12 724,-41 724,-41 724,-47 718,-53 712,-53\"/>\r\n",
       "<text text-anchor=\"start\" x=\"644.5\" y=\"-37.8\" font-family=\"Helvetica,sans-Serif\" font-size=\"14.00\">mse = 0.0</text>\r\n",
       "<text text-anchor=\"start\" x=\"637\" y=\"-22.8\" font-family=\"Helvetica,sans-Serif\" font-size=\"14.00\">samples = 2</text>\r\n",
       "<text text-anchor=\"start\" x=\"641.5\" y=\"-7.8\" font-family=\"Helvetica,sans-Serif\" font-size=\"14.00\">value = 0.0</text>\r\n",
       "</g>\r\n",
       "<!-- 10&#45;&gt;12 -->\r\n",
       "<g id=\"edge12\" class=\"edge\"><title>10&#45;&gt;12</title>\r\n",
       "<path fill=\"none\" stroke=\"black\" d=\"M600.421,-88.9485C612.2,-79.4346 625.027,-69.074 636.735,-59.6175\"/>\r\n",
       "<polygon fill=\"black\" stroke=\"black\" points=\"639.055,-62.2429 644.636,-53.2367 634.657,-56.7973 639.055,-62.2429\"/>\r\n",
       "</g>\r\n",
       "</g>\r\n",
       "</svg>\r\n"
      ],
      "text/plain": [
       "<graphviz.files.Source at 0x1c267f12c70>"
      ]
     },
     "execution_count": 53,
     "metadata": {},
     "output_type": "execute_result"
    }
   ],
   "source": [
    "import graphviz \n",
    "from sklearn.tree import export_graphviz, DecisionTreeRegressor\n",
    "\n",
    "clf = DecisionTreeRegressor(max_depth=3, random_state=0)\n",
    "clf.fit(X_train_norm, Y_train)\n",
    "\n",
    "# plot\n",
    "dot_data = export_graphviz(clf,\n",
    "                           feature_names=db.columns[0:-1],\n",
    "                           out_file=None,\n",
    "                           filled=True,\n",
    "                           rounded=True,\n",
    "                           special_characters=True,\n",
    "                           class_names=['Diabetic','Non Diabetic'])\n",
    "graph = graphviz.Source(dot_data)\n",
    "graph"
   ]
  },
  {
   "cell_type": "markdown",
   "metadata": {},
   "source": [
    "#### Not normalized"
   ]
  },
  {
   "cell_type": "code",
   "execution_count": 54,
   "metadata": {},
   "outputs": [
    {
     "name": "stdout",
     "output_type": "stream",
     "text": [
      "{'criterion': 'gini', 'max_depth': 3}\n"
     ]
    }
   ],
   "source": [
    "# GridSearchCV\n",
    "param_grid = { 'criterion':['gini','entropy'],'max_depth': np.arange(3, 15)}\n",
    "\n",
    "# decision tree model\n",
    "dtree_model=tree.DecisionTreeClassifier()\n",
    "\n",
    "#use gridsearch to test all values\n",
    "dtree_model = GridSearchCV(dtree_model, param_grid, cv=5)\n",
    "\n",
    "#fit model to data\n",
    "dtree_model=dtree_model.fit(X_train, Y_train)\n",
    "print(dtree_model.best_params_)"
   ]
  },
  {
   "cell_type": "code",
   "execution_count": 55,
   "metadata": {},
   "outputs": [
    {
     "name": "stdout",
     "output_type": "stream",
     "text": [
      "0.7532467532467533\n",
      "[[130  25]\n",
      " [ 32  44]]\n"
     ]
    }
   ],
   "source": [
    "# Train de model\n",
    "my_model = dtree_model.best_estimator_\n",
    "my_tree=my_model.fit(X_train, Y_train)\n",
    "\n",
    "#Predict using X_test\n",
    "y_predicted = my_model.predict(X_test)\n",
    "\n",
    "# Results\n",
    "print(accuracy_score(Y_test, y_predicted))\n",
    "print(confusion_matrix(Y_test, y_predicted))"
   ]
  },
  {
   "cell_type": "code",
   "execution_count": 56,
   "metadata": {},
   "outputs": [
    {
     "name": "stderr",
     "output_type": "stream",
     "text": [
      "C:\\Users\\palac\\Anaconda3\\lib\\site-packages\\sklearn\\utils\\validation.py:68: FutureWarning: Pass param_name=max_depth, param_range=[ 3  4  5  6  7  8  9 10 11 12 13 14] as keyword args. From version 0.25 passing these as positional arguments will result in an error\n",
      "  warnings.warn(\"Pass {} as keyword args. From version 0.25 \"\n"
     ]
    },
    {
     "data": {
      "image/png": "[encoded data removed]",
      "text/plain": [
       "<Figure size 432x288 with 1 Axes>"
      ]
     },
     "metadata": {
      "needs_background": "light"
     },
     "output_type": "display_data"
    }
   ],
   "source": [
    "from sklearn.model_selection import learning_curve, GridSearchCV\n",
    "#from sklearn.learning_curve import validation_curve\n",
    "from sklearn.model_selection import validation_curve, GridSearchCV\n",
    "train_score, val_score = validation_curve(tree.DecisionTreeClassifier(), X_train, Y_train,\n",
    "                                          'max_depth', max_depth, cv=3)\n",
    "\n",
    "plt.plot(max_depth, np.mean(train_score, 1), color='blue', label='Training accuracy')\n",
    "plt.plot(max_depth, np.mean(val_score, 1), color='red', label='Validation accuracy')\n",
    "plt.legend(loc='best')\n",
    "plt.ylim(0, 1.2)\n",
    "plt.xlabel('Depth')\n",
    "plt.ylabel('Accuracy');"
   ]
  },
  {
   "cell_type": "code",
   "execution_count": 57,
   "metadata": {},
   "outputs": [
    {
     "data": {
      "image/svg+xml": [
       "<?xml version=\"1.0\" encoding=\"UTF-8\" standalone=\"no\"?>\r\n",
       "<!DOCTYPE svg PUBLIC \"-//W3C//DTD SVG 1.1//EN\"\r\n",
       " \"http://www.w3.org/Graphics/SVG/1.1/DTD/svg11.dtd\">\r\n",
       "<!-- Generated by graphviz version 2.38.0 (20140413.2041)\r\n",
       " -->\r\n",
       "<!-- Title: Tree Pages: 1 -->\r\n",
       "<svg width=\"732pt\" height=\"373pt\"\r\n",
       " viewBox=\"0.00 0.00 732.00 373.00\" xmlns=\"http://www.w3.org/2000/svg\" xmlns:xlink=\"http://www.w3.org/1999/xlink\">\r\n",
       "<g id=\"graph0\" class=\"graph\" transform=\"scale(1 1) rotate(0) translate(4 369)\">\r\n",
       "<title>Tree</title>\r\n",
       "<polygon fill=\"white\" stroke=\"none\" points=\"-4,4 -4,-369 728,-369 728,4 -4,4\"/>\r\n",
       "<!-- 0 -->\r\n",
       "<g id=\"node1\" class=\"node\"><title>0</title>\r\n",
       "<path fill=\"#f4cbad\" stroke=\"black\" d=\"M328.5,-365C328.5,-365 230.5,-365 230.5,-365 224.5,-365 218.5,-359 218.5,-353 218.5,-353 218.5,-309 218.5,-309 218.5,-303 224.5,-297 230.5,-297 230.5,-297 328.5,-297 328.5,-297 334.5,-297 340.5,-303 340.5,-309 340.5,-309 340.5,-353 340.5,-353 340.5,-359 334.5,-365 328.5,-365\"/>\r\n",
       "<text text-anchor=\"start\" x=\"226.5\" y=\"-349.8\" font-family=\"Helvetica,sans-Serif\" font-size=\"14.00\">Glucose ≤ 127.5</text>\r\n",
       "<text text-anchor=\"start\" x=\"243\" y=\"-334.8\" font-family=\"Helvetica,sans-Serif\" font-size=\"14.00\">mse = 0.23</text>\r\n",
       "<text text-anchor=\"start\" x=\"232\" y=\"-319.8\" font-family=\"Helvetica,sans-Serif\" font-size=\"14.00\">samples = 537</text>\r\n",
       "<text text-anchor=\"start\" x=\"236.5\" y=\"-304.8\" font-family=\"Helvetica,sans-Serif\" font-size=\"14.00\">value = 0.358</text>\r\n",
       "</g>\r\n",
       "<!-- 1 -->\r\n",
       "<g id=\"node2\" class=\"node\"><title>1</title>\r\n",
       "<path fill=\"#f9e3d2\" stroke=\"black\" d=\"M228,-261C228,-261 141,-261 141,-261 135,-261 129,-255 129,-249 129,-249 129,-205 129,-205 129,-199 135,-193 141,-193 141,-193 228,-193 228,-193 234,-193 240,-199 240,-205 240,-205 240,-249 240,-249 240,-255 234,-261 228,-261\"/>\r\n",
       "<text text-anchor=\"start\" x=\"145.5\" y=\"-245.8\" font-family=\"Helvetica,sans-Serif\" font-size=\"14.00\">BMI ≤ 26.45</text>\r\n",
       "<text text-anchor=\"start\" x=\"144\" y=\"-230.8\" font-family=\"Helvetica,sans-Serif\" font-size=\"14.00\">mse = 0.156</text>\r\n",
       "<text text-anchor=\"start\" x=\"137\" y=\"-215.8\" font-family=\"Helvetica,sans-Serif\" font-size=\"14.00\">samples = 330</text>\r\n",
       "<text text-anchor=\"start\" x=\"141.5\" y=\"-200.8\" font-family=\"Helvetica,sans-Serif\" font-size=\"14.00\">value = 0.194</text>\r\n",
       "</g>\r\n",
       "<!-- 0&#45;&gt;1 -->\r\n",
       "<g id=\"edge1\" class=\"edge\"><title>0&#45;&gt;1</title>\r\n",
       "<path fill=\"none\" stroke=\"black\" d=\"M248.656,-296.884C240.277,-287.887 231.106,-278.041 222.387,-268.678\"/>\r\n",
       "<polygon fill=\"black\" stroke=\"black\" points=\"224.891,-266.232 215.514,-261.299 219.768,-271.003 224.891,-266.232\"/>\r\n",
       "<text text-anchor=\"middle\" x=\"214.626\" y=\"-282.584\" font-family=\"Helvetica,sans-Serif\" font-size=\"14.00\">True</text>\r\n",
       "</g>\r\n",
       "<!-- 6 -->\r\n",
       "<g id=\"node7\" class=\"node\"><title>6</title>\r\n",
       "<path fill=\"#eca571\" stroke=\"black\" d=\"M424.5,-261C424.5,-261 326.5,-261 326.5,-261 320.5,-261 314.5,-255 314.5,-249 314.5,-249 314.5,-205 314.5,-205 314.5,-199 320.5,-193 326.5,-193 326.5,-193 424.5,-193 424.5,-193 430.5,-193 436.5,-199 436.5,-205 436.5,-205 436.5,-249 436.5,-249 436.5,-255 430.5,-261 424.5,-261\"/>\r\n",
       "<text text-anchor=\"start\" x=\"322.5\" y=\"-245.8\" font-family=\"Helvetica,sans-Serif\" font-size=\"14.00\">Glucose ≤ 159.5</text>\r\n",
       "<text text-anchor=\"start\" x=\"335\" y=\"-230.8\" font-family=\"Helvetica,sans-Serif\" font-size=\"14.00\">mse = 0.236</text>\r\n",
       "<text text-anchor=\"start\" x=\"328\" y=\"-215.8\" font-family=\"Helvetica,sans-Serif\" font-size=\"14.00\">samples = 207</text>\r\n",
       "<text text-anchor=\"start\" x=\"332.5\" y=\"-200.8\" font-family=\"Helvetica,sans-Serif\" font-size=\"14.00\">value = 0.618</text>\r\n",
       "</g>\r\n",
       "<!-- 0&#45;&gt;6 -->\r\n",
       "<g id=\"edge6\" class=\"edge\"><title>0&#45;&gt;6</title>\r\n",
       "<path fill=\"none\" stroke=\"black\" d=\"M310.668,-296.884C319.136,-287.887 328.403,-278.041 337.215,-268.678\"/>\r\n",
       "<polygon fill=\"black\" stroke=\"black\" points=\"339.854,-270.98 344.159,-261.299 334.757,-266.183 339.854,-270.98\"/>\r\n",
       "<text text-anchor=\"middle\" x=\"344.917\" y=\"-282.588\" font-family=\"Helvetica,sans-Serif\" font-size=\"14.00\">False</text>\r\n",
       "</g>\r\n",
       "<!-- 2 -->\r\n",
       "<g id=\"node3\" class=\"node\"><title>2</title>\r\n",
       "<path fill=\"#ffffff\" stroke=\"black\" d=\"M99,-149.5C99,-149.5 20,-149.5 20,-149.5 14,-149.5 8,-143.5 8,-137.5 8,-137.5 8,-108.5 8,-108.5 8,-102.5 14,-96.5 20,-96.5 20,-96.5 99,-96.5 99,-96.5 105,-96.5 111,-102.5 111,-108.5 111,-108.5 111,-137.5 111,-137.5 111,-143.5 105,-149.5 99,-149.5\"/>\r\n",
       "<text text-anchor=\"start\" x=\"27.5\" y=\"-134.3\" font-family=\"Helvetica,sans-Serif\" font-size=\"14.00\">mse = 0.0</text>\r\n",
       "<text text-anchor=\"start\" x=\"16\" y=\"-119.3\" font-family=\"Helvetica,sans-Serif\" font-size=\"14.00\">samples = 89</text>\r\n",
       "<text text-anchor=\"start\" x=\"24.5\" y=\"-104.3\" font-family=\"Helvetica,sans-Serif\" font-size=\"14.00\">value = 0.0</text>\r\n",
       "</g>\r\n",
       "<!-- 1&#45;&gt;2 -->\r\n",
       "<g id=\"edge2\" class=\"edge\"><title>1&#45;&gt;2</title>\r\n",
       "<path fill=\"none\" stroke=\"black\" d=\"M143.916,-192.884C129.36,-181.006 112.988,-167.646 98.5637,-155.876\"/>\r\n",
       "<polygon fill=\"black\" stroke=\"black\" points=\"100.735,-153.13 90.7744,-149.52 96.3095,-158.554 100.735,-153.13\"/>\r\n",
       "</g>\r\n",
       "<!-- 3 -->\r\n",
       "<g id=\"node4\" class=\"node\"><title>3</title>\r\n",
       "<path fill=\"#f7d8c2\" stroke=\"black\" d=\"M228,-157C228,-157 141,-157 141,-157 135,-157 129,-151 129,-145 129,-145 129,-101 129,-101 129,-95 135,-89 141,-89 141,-89 228,-89 228,-89 234,-89 240,-95 240,-101 240,-101 240,-145 240,-145 240,-151 234,-157 228,-157\"/>\r\n",
       "<text text-anchor=\"start\" x=\"149.5\" y=\"-141.8\" font-family=\"Helvetica,sans-Serif\" font-size=\"14.00\">Age ≤ 28.5</text>\r\n",
       "<text text-anchor=\"start\" x=\"144\" y=\"-126.8\" font-family=\"Helvetica,sans-Serif\" font-size=\"14.00\">mse = 0.195</text>\r\n",
       "<text text-anchor=\"start\" x=\"137\" y=\"-111.8\" font-family=\"Helvetica,sans-Serif\" font-size=\"14.00\">samples = 241</text>\r\n",
       "<text text-anchor=\"start\" x=\"141.5\" y=\"-96.8\" font-family=\"Helvetica,sans-Serif\" font-size=\"14.00\">value = 0.266</text>\r\n",
       "</g>\r\n",
       "<!-- 1&#45;&gt;3 -->\r\n",
       "<g id=\"edge3\" class=\"edge\"><title>1&#45;&gt;3</title>\r\n",
       "<path fill=\"none\" stroke=\"black\" d=\"M184.5,-192.884C184.5,-184.778 184.5,-175.982 184.5,-167.472\"/>\r\n",
       "<polygon fill=\"black\" stroke=\"black\" points=\"188,-167.299 184.5,-157.299 181,-167.299 188,-167.299\"/>\r\n",
       "</g>\r\n",
       "<!-- 4 -->\r\n",
       "<g id=\"node5\" class=\"node\"><title>4</title>\r\n",
       "<path fill=\"#fbece1\" stroke=\"black\" d=\"M99,-53C99,-53 12,-53 12,-53 6,-53 0,-47 0,-41 0,-41 0,-12 0,-12 0,-6 6,-0 12,-0 12,-0 99,-0 99,-0 105,-0 111,-6 111,-12 111,-12 111,-41 111,-41 111,-47 105,-53 99,-53\"/>\r\n",
       "<text text-anchor=\"start\" x=\"15\" y=\"-37.8\" font-family=\"Helvetica,sans-Serif\" font-size=\"14.00\">mse = 0.113</text>\r\n",
       "<text text-anchor=\"start\" x=\"8\" y=\"-22.8\" font-family=\"Helvetica,sans-Serif\" font-size=\"14.00\">samples = 123</text>\r\n",
       "<text text-anchor=\"start\" x=\"16.5\" y=\"-7.8\" font-family=\"Helvetica,sans-Serif\" font-size=\"14.00\">value = 0.13</text>\r\n",
       "</g>\r\n",
       "<!-- 3&#45;&gt;4 -->\r\n",
       "<g id=\"edge4\" class=\"edge\"><title>3&#45;&gt;4</title>\r\n",
       "<path fill=\"none\" stroke=\"black\" d=\"M139.382,-88.9485C126.27,-79.3431 111.98,-68.8747 98.9709,-59.345\"/>\r\n",
       "<polygon fill=\"black\" stroke=\"black\" points=\"100.768,-56.3228 90.6326,-53.2367 96.6313,-61.9698 100.768,-56.3228\"/>\r\n",
       "</g>\r\n",
       "<!-- 5 -->\r\n",
       "<g id=\"node6\" class=\"node\"><title>5</title>\r\n",
       "<path fill=\"#f3c3a1\" stroke=\"black\" d=\"M228,-53C228,-53 141,-53 141,-53 135,-53 129,-47 129,-41 129,-41 129,-12 129,-12 129,-6 135,-0 141,-0 141,-0 228,-0 228,-0 234,-0 240,-6 240,-12 240,-12 240,-41 240,-41 240,-47 234,-53 228,-53\"/>\r\n",
       "<text text-anchor=\"start\" x=\"144\" y=\"-37.8\" font-family=\"Helvetica,sans-Serif\" font-size=\"14.00\">mse = 0.241</text>\r\n",
       "<text text-anchor=\"start\" x=\"137\" y=\"-22.8\" font-family=\"Helvetica,sans-Serif\" font-size=\"14.00\">samples = 118</text>\r\n",
       "<text text-anchor=\"start\" x=\"141.5\" y=\"-7.8\" font-family=\"Helvetica,sans-Serif\" font-size=\"14.00\">value = 0.407</text>\r\n",
       "</g>\r\n",
       "<!-- 3&#45;&gt;5 -->\r\n",
       "<g id=\"edge5\" class=\"edge\"><title>3&#45;&gt;5</title>\r\n",
       "<path fill=\"none\" stroke=\"black\" d=\"M184.5,-88.9485C184.5,-80.7153 184.5,-71.848 184.5,-63.4814\"/>\r\n",
       "<polygon fill=\"black\" stroke=\"black\" points=\"188,-63.2367 184.5,-53.2367 181,-63.2367 188,-63.2367\"/>\r\n",
       "</g>\r\n",
       "<!-- 7 -->\r\n",
       "<g id=\"node8\" class=\"node\"><title>7</title>\r\n",
       "<path fill=\"#f0b68d\" stroke=\"black\" d=\"M419,-157C419,-157 332,-157 332,-157 326,-157 320,-151 320,-145 320,-145 320,-101 320,-101 320,-95 326,-89 332,-89 332,-89 419,-89 419,-89 425,-89 431,-95 431,-101 431,-101 431,-145 431,-145 431,-151 425,-157 419,-157\"/>\r\n",
       "<text text-anchor=\"start\" x=\"340.5\" y=\"-141.8\" font-family=\"Helvetica,sans-Serif\" font-size=\"14.00\">BMI ≤ 27.8</text>\r\n",
       "<text text-anchor=\"start\" x=\"339\" y=\"-126.8\" font-family=\"Helvetica,sans-Serif\" font-size=\"14.00\">mse = 0.25</text>\r\n",
       "<text text-anchor=\"start\" x=\"328\" y=\"-111.8\" font-family=\"Helvetica,sans-Serif\" font-size=\"14.00\">samples = 133</text>\r\n",
       "<text text-anchor=\"start\" x=\"332.5\" y=\"-96.8\" font-family=\"Helvetica,sans-Serif\" font-size=\"14.00\">value = 0.496</text>\r\n",
       "</g>\r\n",
       "<!-- 6&#45;&gt;7 -->\r\n",
       "<g id=\"edge7\" class=\"edge\"><title>6&#45;&gt;7</title>\r\n",
       "<path fill=\"none\" stroke=\"black\" d=\"M375.5,-192.884C375.5,-184.778 375.5,-175.982 375.5,-167.472\"/>\r\n",
       "<polygon fill=\"black\" stroke=\"black\" points=\"379,-167.299 375.5,-157.299 372,-167.299 379,-167.299\"/>\r\n",
       "</g>\r\n",
       "<!-- 10 -->\r\n",
       "<g id=\"node11\" class=\"node\"><title>10</title>\r\n",
       "<path fill=\"#e6843e\" stroke=\"black\" d=\"M602,-157C602,-157 517,-157 517,-157 511,-157 505,-151 505,-145 505,-145 505,-101 505,-101 505,-95 511,-89 517,-89 517,-89 602,-89 602,-89 608,-89 614,-95 614,-101 614,-101 614,-145 614,-145 614,-151 608,-157 602,-157\"/>\r\n",
       "<text text-anchor=\"start\" x=\"513\" y=\"-141.8\" font-family=\"Helvetica,sans-Serif\" font-size=\"14.00\">Insulin ≤ 629.5</text>\r\n",
       "<text text-anchor=\"start\" x=\"519\" y=\"-126.8\" font-family=\"Helvetica,sans-Serif\" font-size=\"14.00\">mse = 0.136</text>\r\n",
       "<text text-anchor=\"start\" x=\"516\" y=\"-111.8\" font-family=\"Helvetica,sans-Serif\" font-size=\"14.00\">samples = 74</text>\r\n",
       "<text text-anchor=\"start\" x=\"516.5\" y=\"-96.8\" font-family=\"Helvetica,sans-Serif\" font-size=\"14.00\">value = 0.838</text>\r\n",
       "</g>\r\n",
       "<!-- 6&#45;&gt;10 -->\r\n",
       "<g id=\"edge10\" class=\"edge\"><title>6&#45;&gt;10</title>\r\n",
       "<path fill=\"none\" stroke=\"black\" d=\"M435.24,-192.884C454.622,-182.139 476.192,-170.181 495.849,-159.285\"/>\r\n",
       "<polygon fill=\"black\" stroke=\"black\" points=\"497.682,-162.271 504.731,-154.361 494.288,-156.148 497.682,-162.271\"/>\r\n",
       "</g>\r\n",
       "<!-- 8 -->\r\n",
       "<g id=\"node9\" class=\"node\"><title>8</title>\r\n",
       "<path fill=\"#f9e3d2\" stroke=\"black\" d=\"M349,-53C349,-53 270,-53 270,-53 264,-53 258,-47 258,-41 258,-41 258,-12 258,-12 258,-6 264,-0 270,-0 270,-0 349,-0 349,-0 355,-0 361,-6 361,-12 361,-12 361,-41 361,-41 361,-47 355,-53 349,-53\"/>\r\n",
       "<text text-anchor=\"start\" x=\"269\" y=\"-37.8\" font-family=\"Helvetica,sans-Serif\" font-size=\"14.00\">mse = 0.156</text>\r\n",
       "<text text-anchor=\"start\" x=\"266\" y=\"-22.8\" font-family=\"Helvetica,sans-Serif\" font-size=\"14.00\">samples = 31</text>\r\n",
       "<text text-anchor=\"start\" x=\"266.5\" y=\"-7.8\" font-family=\"Helvetica,sans-Serif\" font-size=\"14.00\">value = 0.194</text>\r\n",
       "</g>\r\n",
       "<!-- 7&#45;&gt;8 -->\r\n",
       "<g id=\"edge8\" class=\"edge\"><title>7&#45;&gt;8</title>\r\n",
       "<path fill=\"none\" stroke=\"black\" d=\"M352.416,-88.9485C346.219,-80.0749 339.507,-70.4648 333.273,-61.5388\"/>\r\n",
       "<polygon fill=\"black\" stroke=\"black\" points=\"336.07,-59.4311 327.475,-53.2367 330.331,-63.4392 336.07,-59.4311\"/>\r\n",
       "</g>\r\n",
       "<!-- 9 -->\r\n",
       "<g id=\"node10\" class=\"node\"><title>9</title>\r\n",
       "<path fill=\"#eda978\" stroke=\"black\" d=\"M478,-53C478,-53 391,-53 391,-53 385,-53 379,-47 379,-41 379,-41 379,-12 379,-12 379,-6 385,-0 391,-0 391,-0 478,-0 478,-0 484,-0 490,-6 490,-12 490,-12 490,-41 490,-41 490,-47 484,-53 478,-53\"/>\r\n",
       "<text text-anchor=\"start\" x=\"394\" y=\"-37.8\" font-family=\"Helvetica,sans-Serif\" font-size=\"14.00\">mse = 0.242</text>\r\n",
       "<text text-anchor=\"start\" x=\"387\" y=\"-22.8\" font-family=\"Helvetica,sans-Serif\" font-size=\"14.00\">samples = 102</text>\r\n",
       "<text text-anchor=\"start\" x=\"391.5\" y=\"-7.8\" font-family=\"Helvetica,sans-Serif\" font-size=\"14.00\">value = 0.588</text>\r\n",
       "</g>\r\n",
       "<!-- 7&#45;&gt;9 -->\r\n",
       "<g id=\"edge9\" class=\"edge\"><title>7&#45;&gt;9</title>\r\n",
       "<path fill=\"none\" stroke=\"black\" d=\"M396.135,-88.9485C401.618,-80.1664 407.552,-70.6629 413.076,-61.815\"/>\r\n",
       "<polygon fill=\"black\" stroke=\"black\" points=\"416.104,-63.5728 418.432,-53.2367 410.167,-59.8656 416.104,-63.5728\"/>\r\n",
       "</g>\r\n",
       "<!-- 11 -->\r\n",
       "<g id=\"node12\" class=\"node\"><title>11</title>\r\n",
       "<path fill=\"#e58139\" stroke=\"black\" d=\"M599,-53C599,-53 520,-53 520,-53 514,-53 508,-47 508,-41 508,-41 508,-12 508,-12 508,-6 514,-0 520,-0 520,-0 599,-0 599,-0 605,-0 611,-6 611,-12 611,-12 611,-41 611,-41 611,-47 605,-53 599,-53\"/>\r\n",
       "<text text-anchor=\"start\" x=\"523\" y=\"-37.8\" font-family=\"Helvetica,sans-Serif\" font-size=\"14.00\">mse = 0.12</text>\r\n",
       "<text text-anchor=\"start\" x=\"516\" y=\"-22.8\" font-family=\"Helvetica,sans-Serif\" font-size=\"14.00\">samples = 72</text>\r\n",
       "<text text-anchor=\"start\" x=\"516.5\" y=\"-7.8\" font-family=\"Helvetica,sans-Serif\" font-size=\"14.00\">value = 0.861</text>\r\n",
       "</g>\r\n",
       "<!-- 10&#45;&gt;11 -->\r\n",
       "<g id=\"edge11\" class=\"edge\"><title>10&#45;&gt;11</title>\r\n",
       "<path fill=\"none\" stroke=\"black\" d=\"M559.5,-88.9485C559.5,-80.7153 559.5,-71.848 559.5,-63.4814\"/>\r\n",
       "<polygon fill=\"black\" stroke=\"black\" points=\"563,-63.2367 559.5,-53.2367 556,-63.2367 563,-63.2367\"/>\r\n",
       "</g>\r\n",
       "<!-- 12 -->\r\n",
       "<g id=\"node13\" class=\"node\"><title>12</title>\r\n",
       "<path fill=\"#ffffff\" stroke=\"black\" d=\"M712,-53C712,-53 641,-53 641,-53 635,-53 629,-47 629,-41 629,-41 629,-12 629,-12 629,-6 635,-0 641,-0 641,-0 712,-0 712,-0 718,-0 724,-6 724,-12 724,-12 724,-41 724,-41 724,-47 718,-53 712,-53\"/>\r\n",
       "<text text-anchor=\"start\" x=\"644.5\" y=\"-37.8\" font-family=\"Helvetica,sans-Serif\" font-size=\"14.00\">mse = 0.0</text>\r\n",
       "<text text-anchor=\"start\" x=\"637\" y=\"-22.8\" font-family=\"Helvetica,sans-Serif\" font-size=\"14.00\">samples = 2</text>\r\n",
       "<text text-anchor=\"start\" x=\"641.5\" y=\"-7.8\" font-family=\"Helvetica,sans-Serif\" font-size=\"14.00\">value = 0.0</text>\r\n",
       "</g>\r\n",
       "<!-- 10&#45;&gt;12 -->\r\n",
       "<g id=\"edge12\" class=\"edge\"><title>10&#45;&gt;12</title>\r\n",
       "<path fill=\"none\" stroke=\"black\" d=\"M600.421,-88.9485C612.2,-79.4346 625.027,-69.074 636.735,-59.6175\"/>\r\n",
       "<polygon fill=\"black\" stroke=\"black\" points=\"639.055,-62.2429 644.636,-53.2367 634.657,-56.7973 639.055,-62.2429\"/>\r\n",
       "</g>\r\n",
       "</g>\r\n",
       "</svg>\r\n"
      ],
      "text/plain": [
       "<graphviz.files.Source at 0x1c268fd0c70>"
      ]
     },
     "execution_count": 57,
     "metadata": {},
     "output_type": "execute_result"
    }
   ],
   "source": [
    "import graphviz \n",
    "from sklearn.tree import export_graphviz, DecisionTreeRegressor\n",
    "\n",
    "clf = DecisionTreeRegressor(max_depth=3, random_state=0)\n",
    "clf.fit(X_train, Y_train)\n",
    "\n",
    "# plot\n",
    "dot_data = export_graphviz(clf,\n",
    "                           feature_names=db.columns[0:-1],\n",
    "                           out_file=None,\n",
    "                           filled=True,\n",
    "                           rounded=True,\n",
    "                           special_characters=True,\n",
    "                           class_names=['Diabetic','Non Diabetic'])\n",
    "graph = graphviz.Source(dot_data)\n",
    "graph"
   ]
  },
  {
   "cell_type": "markdown",
   "metadata": {},
   "source": [
    "## Multilayer perceptron\n",
    "\n",
    "Designed a Multilayer Perceptron (MLP) with a single hidden layer, random initialization of the neural network weights and  back- propagation training algorithm. Reasonably justify:\n",
    "\n",
    "a) The number of neurons in the input layer.\n",
    "- 8 layers, each one corresponding to the parameters of the X vector\n",
    "\n",
    "b) The number of neurons in the output layer.\n",
    "- 2, being the binary outcomes as \"Diabetic (1)\" or \"Non diabetic (0)\"\n",
    "\n",
    "c) The activation functions considered.\n",
    "- In this case we chose \"relu\" function, as it is the default the activation function, which we kept due to its perfermance in our case\n",
    "\n",
    "d) The value of the learning rate used.\n",
    "- We chose an adaptative learning rate, this means it will start from 0.001 (\"learning_rate_init\" mediated) and it will increase or decrease depending on the perfomance evaluated by the backpropagation\n",
    "\n",
    "e) The cost function to be optimized.\n",
    "- MLP minimizes the Cross-Entropy loss function, giving a vector of probability estimates per sample : 'p(y/x) per sample x'\n",
    "\n",
    "\n",
    "Explain briefly and concise way what an epoch is, exemplifying with your particular case.\n",
    "\n",
    "Reasonably justify the choice of a architecture that provides good performance in the test set."
   ]
  },
  {
   "cell_type": "markdown",
   "metadata": {},
   "source": [
    "Some useful links:\n",
    "\n",
    "    https://scikit-learn.org/stable/modules/generated/sklearn.neural_network.MLPClassifier.html\n",
    "    \n",
    "    https://scikit-learn.org/stable/modules/neural_networks_supervised.html"
   ]
  },
  {
   "cell_type": "code",
   "execution_count": 8,
   "metadata": {},
   "outputs": [],
   "source": [
    "from sklearn.neural_network import MLPClassifier\n",
    "\n",
    "X = db.drop(['Outcome'], axis = 1)\n",
    "Y = db['Outcome']\n",
    "\n",
    "# Separate in train and test\n",
    "X_train, X_test, Y_train, Y_test = train_test_split(X, Y, test_size = 0.3, random_state=2)"
   ]
  },
  {
   "cell_type": "markdown",
   "metadata": {},
   "source": [
    "##### Hyperparameters of the network:\n",
    "\n",
    "- **alpha parameter** regularizes the biggest weights with a penalization to avoid overfitting\n",
    "\n",
    "- **activation function** chosen is relu function, the most common one in this kind of exercises.\n",
    "\n",
    "- **max_iter** parameter determines number of epochs\n",
    "\n",
    "- default **solver** is 'adam' but for small datasets 'lbfgs' performs better\n",
    "\n",
    "- **hidden_layer_sizes** (x,y) sets y number of layers with x number of neurons per layer\n",
    "\n",
    "- **learning rate** in our case is adaptative, step will be increased or decreased depending of performance, it has an initial point of 0.001\n",
    "\n",
    "\n",
    "\n",
    "MLP trains using Backpropagation. More precisely, it trains using an stochastic gradient descent and this gradient are calculated using Backpropagation.This means that each training epoch will receive error information from the previous one, allowing the network to improve the performance with each epoch\n",
    "\n",
    "For classification, MLP minimizes the Cross-Entropy loss function, \n",
    "giving a vector of probability estimates  per sample : 'p(y/x) per sample x'\n",
    "\n",
    "Once we've taken into account that previous information we could set our classifier:"
   ]
  },
  {
   "cell_type": "code",
   "execution_count": 46,
   "metadata": {},
   "outputs": [],
   "source": [
    "hiddenlayer_values = range(1,10)"
   ]
  },
  {
   "cell_type": "code",
   "execution_count": 58,
   "metadata": {},
   "outputs": [
    {
     "name": "stdout",
     "output_type": "stream",
     "text": [
      "Score [0.6424581 0.6424581 0.6424581]\n"
     ]
    },
    {
     "name": "stderr",
     "output_type": "stream",
     "text": [
      "C:\\Users\\palac\\Anaconda3\\lib\\site-packages\\sklearn\\neural_network\\_multilayer_perceptron.py:582: ConvergenceWarning: Stochastic Optimizer: Maximum iterations (800) reached and the optimization hasn't converged yet.\n",
      "  warnings.warn(\n",
      "C:\\Users\\palac\\Anaconda3\\lib\\site-packages\\sklearn\\neural_network\\_multilayer_perceptron.py:582: ConvergenceWarning: Stochastic Optimizer: Maximum iterations (800) reached and the optimization hasn't converged yet.\n",
      "  warnings.warn(\n",
      "C:\\Users\\palac\\Anaconda3\\lib\\site-packages\\sklearn\\neural_network\\_multilayer_perceptron.py:582: ConvergenceWarning: Stochastic Optimizer: Maximum iterations (800) reached and the optimization hasn't converged yet.\n",
      "  warnings.warn(\n"
     ]
    },
    {
     "name": "stdout",
     "output_type": "stream",
     "text": [
      "Score [0.74301676 0.72625698 0.70949721]\n",
      "Score [0.73184358 0.75418994 0.77653631]\n",
      "Score [0.72067039 0.75977654 0.79329609]\n"
     ]
    },
    {
     "name": "stderr",
     "output_type": "stream",
     "text": [
      "C:\\Users\\palac\\Anaconda3\\lib\\site-packages\\sklearn\\neural_network\\_multilayer_perceptron.py:582: ConvergenceWarning: Stochastic Optimizer: Maximum iterations (800) reached and the optimization hasn't converged yet.\n",
      "  warnings.warn(\n"
     ]
    },
    {
     "name": "stdout",
     "output_type": "stream",
     "text": [
      "Score [0.74860335 0.77094972 0.75418994]\n"
     ]
    },
    {
     "name": "stderr",
     "output_type": "stream",
     "text": [
      "C:\\Users\\palac\\Anaconda3\\lib\\site-packages\\sklearn\\neural_network\\_multilayer_perceptron.py:582: ConvergenceWarning: Stochastic Optimizer: Maximum iterations (800) reached and the optimization hasn't converged yet.\n",
      "  warnings.warn(\n"
     ]
    },
    {
     "name": "stdout",
     "output_type": "stream",
     "text": [
      "Score [0.70391061 0.75977654 0.74301676]\n"
     ]
    },
    {
     "name": "stderr",
     "output_type": "stream",
     "text": [
      "C:\\Users\\palac\\Anaconda3\\lib\\site-packages\\sklearn\\neural_network\\_multilayer_perceptron.py:582: ConvergenceWarning: Stochastic Optimizer: Maximum iterations (800) reached and the optimization hasn't converged yet.\n",
      "  warnings.warn(\n",
      "C:\\Users\\palac\\Anaconda3\\lib\\site-packages\\sklearn\\neural_network\\_multilayer_perceptron.py:582: ConvergenceWarning: Stochastic Optimizer: Maximum iterations (800) reached and the optimization hasn't converged yet.\n",
      "  warnings.warn(\n"
     ]
    },
    {
     "name": "stdout",
     "output_type": "stream",
     "text": [
      "Score [0.70391061 0.77653631 0.76536313]\n"
     ]
    },
    {
     "name": "stderr",
     "output_type": "stream",
     "text": [
      "C:\\Users\\palac\\Anaconda3\\lib\\site-packages\\sklearn\\neural_network\\_multilayer_perceptron.py:582: ConvergenceWarning: Stochastic Optimizer: Maximum iterations (800) reached and the optimization hasn't converged yet.\n",
      "  warnings.warn(\n"
     ]
    },
    {
     "name": "stdout",
     "output_type": "stream",
     "text": [
      "Score [0.75418994 0.78212291 0.77094972]\n"
     ]
    },
    {
     "name": "stderr",
     "output_type": "stream",
     "text": [
      "C:\\Users\\palac\\Anaconda3\\lib\\site-packages\\sklearn\\neural_network\\_multilayer_perceptron.py:582: ConvergenceWarning: Stochastic Optimizer: Maximum iterations (800) reached and the optimization hasn't converged yet.\n",
      "  warnings.warn(\n",
      "C:\\Users\\palac\\Anaconda3\\lib\\site-packages\\sklearn\\neural_network\\_multilayer_perceptron.py:582: ConvergenceWarning: Stochastic Optimizer: Maximum iterations (800) reached and the optimization hasn't converged yet.\n",
      "  warnings.warn(\n"
     ]
    },
    {
     "name": "stdout",
     "output_type": "stream",
     "text": [
      "Score [0.73743017 0.73743017 0.77653631]\n"
     ]
    },
    {
     "data": {
      "image/png": "[encoded data removed]",
      "text/plain": [
       "<Figure size 432x288 with 1 Axes>"
      ]
     },
     "metadata": {
      "needs_background": "light"
     },
     "output_type": "display_data"
    },
    {
     "name": "stdout",
     "output_type": "stream",
     "text": [
      "8\n"
     ]
    }
   ],
   "source": [
    "cv_hl_scores=[]\n",
    "for k in hiddenlayer_values:\n",
    "    clf = MLPClassifier(activation='relu',max_iter=800, solver='adam', alpha=0.001,hidden_layer_sizes=(6,k), random_state=1, learning_rate_init=0.001, learning_rate='adaptive')\n",
    "    scores= cross_val_score(clf, X_train_norm, Y_train, cv=3, scoring='accuracy')\n",
    "    print('Score',scores)\n",
    "    cv_hl_scores.append(scores.mean())\n",
    "    \n",
    "plt.plot(hiddenlayer_values, cv_hl_scores)\n",
    "plt.xlabel('Number of hidden layers')\n",
    "plt.ylabel('CV accuracy')\n",
    "plt.show()\n",
    "\n",
    "# Select the maximum because we are considering accuracuy\n",
    "print(np.array(hiddenlayer_values)[cv_hl_scores.index(np.array(cv_hl_scores).max())])"
   ]
  },
  {
   "cell_type": "code",
   "execution_count": 59,
   "metadata": {},
   "outputs": [
    {
     "data": {
      "text/plain": [
       "{'activation': 'relu',\n",
       " 'alpha': 0.001,\n",
       " 'batch_size': 'auto',\n",
       " 'beta_1': 0.9,\n",
       " 'beta_2': 0.999,\n",
       " 'early_stopping': False,\n",
       " 'epsilon': 1e-08,\n",
       " 'hidden_layer_sizes': (6, 8),\n",
       " 'learning_rate': 'adaptive',\n",
       " 'learning_rate_init': 0.001,\n",
       " 'max_fun': 15000,\n",
       " 'max_iter': 800,\n",
       " 'momentum': 0.9,\n",
       " 'n_iter_no_change': 10,\n",
       " 'nesterovs_momentum': True,\n",
       " 'power_t': 0.5,\n",
       " 'random_state': 1,\n",
       " 'shuffle': True,\n",
       " 'solver': 'adam',\n",
       " 'tol': 0.0001,\n",
       " 'validation_fraction': 0.1,\n",
       " 'verbose': False,\n",
       " 'warm_start': False}"
      ]
     },
     "execution_count": 59,
     "metadata": {},
     "output_type": "execute_result"
    }
   ],
   "source": [
    "clf = MLPClassifier(activation='relu',max_iter=800, solver='adam', alpha=0.001,hidden_layer_sizes=(6,8), random_state=1, learning_rate_init=0.001, learning_rate='adaptive')\n",
    "\n",
    "clf.get_params()"
   ]
  },
  {
   "cell_type": "code",
   "execution_count": 60,
   "metadata": {},
   "outputs": [
    {
     "data": {
      "text/plain": [
       "MLPClassifier(alpha=0.001, hidden_layer_sizes=(6, 8), learning_rate='adaptive',\n",
       "              max_iter=800, random_state=1)"
      ]
     },
     "execution_count": 60,
     "metadata": {},
     "output_type": "execute_result"
    }
   ],
   "source": [
    "clf.fit(X_train_norm, Y_train)"
   ]
  },
  {
   "cell_type": "code",
   "execution_count": 61,
   "metadata": {},
   "outputs": [],
   "source": [
    "Y_pred_MLP=clf.predict(X_test_norm)"
   ]
  },
  {
   "cell_type": "code",
   "execution_count": 62,
   "metadata": {},
   "outputs": [
    {
     "name": "stdout",
     "output_type": "stream",
     "text": [
      "Accuracy of the model: 0.7748917748917749\n",
      "[[132  23]\n",
      " [ 29  47]]\n"
     ]
    }
   ],
   "source": [
    "print(\"Accuracy of the model:\",accuracy_score(Y_test, Y_pred_MLP))\n",
    "print(confusion_matrix(Y_test, Y_pred_MLP))"
   ]
  },
  {
   "cell_type": "markdown",
   "metadata": {},
   "source": [
    "## Benchmark results\n",
    "\n",
    "\n",
    "In view of the results obtained to solve the proposed classification task, briefly justify which model you consider most appropriate."
   ]
  }
 ],
 "metadata": {
  "kernelspec": {
   "display_name": "Python 3",
   "language": "python",
   "name": "python3"
  },
  "language_info": {
   "codemirror_mode": {
    "name": "ipython",
    "version": 3
   },
   "file_extension": ".py",
   "mimetype": "text/x-python",
   "name": "python",
   "nbconvert_exporter": "python",
   "pygments_lexer": "ipython3",
   "version": "3.8.3"
  }
 },
 "nbformat": 4,
 "nbformat_minor": 4
}
